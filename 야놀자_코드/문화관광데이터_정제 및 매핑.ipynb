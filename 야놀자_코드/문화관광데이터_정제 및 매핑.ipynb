{
 "cells": [
  {
   "cell_type": "code",
   "execution_count": 1,
   "id": "964f91cd",
   "metadata": {},
   "outputs": [],
   "source": [
    "import pandas as pd\n",
    "\n",
    "df1 = pd.read_csv('CI_DMSTC_TOUR_AREA_INTRST_DGREE_INFO_20250630.csv')\n",
    "df2 = pd.read_csv('YN_LDGS_PROPERTY_LC_INFO_202412.csv')\n",
    "df3 = pd.read_csv('HW_LDGS_OTA_USE_LIST_AVRG_SCORE_VARTION_INFO_202412.csv')\n",
    "df3_ = pd.read_csv('HW_LDGS_OTA_USE_LIST_AVRG_SCORE_VARTION_INFO_202406.csv')\n",
    "df4 = pd.read_csv('YN_LDGS_STAYNG_TY_202412.csv')\n",
    "df5 = pd.read_csv('HW_LDGS_DAIL_MAX_AVRG_MIN_PRC_INFO_202403-4.csv')"
   ]
  },
  {
   "cell_type": "markdown",
   "id": "c88a3ec8",
   "metadata": {},
   "source": [
    "# 비교프레임 정제 계획\n",
    " - 1. 야놀자, 여기어때만 남기고 드롭\n",
    " - 2. 24년 전체 월 프레임 병합\n",
    " - 3. 야놀자, 여기어때 각각 숙박명별로 리뷰, 평균점수 -> 전체 평균으로 바꾸기\n",
    " - 4. 나머지 드롭\n",
    " - 5. 플랫폼별로 데이터 분리\n",
    " "
   ]
  },
  {
   "cell_type": "markdown",
   "id": "a3ded7cc",
   "metadata": {},
   "source": [
    "## 데이터 확인"
   ]
  },
  {
   "cell_type": "code",
   "execution_count": 2,
   "id": "1d50850a",
   "metadata": {},
   "outputs": [
    {
     "name": "stdout",
     "output_type": "stream",
     "text": [
      "<class 'pandas.core.frame.DataFrame'>\n",
      "RangeIndex: 303121 entries, 0 to 303120\n",
      "Data columns (total 9 columns):\n",
      " #   Column            Non-Null Count   Dtype  \n",
      "---  ------            --------------   -----  \n",
      " 0   LDGS_NM           303121 non-null  object \n",
      " 1   CTPRVN_NM         303121 non-null  object \n",
      " 2   GUGUN_NM          303121 non-null  object \n",
      " 3   OTA_NM            303121 non-null  object \n",
      " 4   BASE_YEAR         303121 non-null  int64  \n",
      " 5   BASE_MT           303121 non-null  int64  \n",
      " 6   BASE_DAY          303121 non-null  int64  \n",
      " 7   AVRG_SCORE_VALUE  303121 non-null  float64\n",
      " 8   REVIEW_REGIST_CO  303121 non-null  float64\n",
      "dtypes: float64(2), int64(3), object(4)\n",
      "memory usage: 20.8+ MB\n"
     ]
    }
   ],
   "source": [
    "df3.info()"
   ]
  },
  {
   "cell_type": "code",
   "execution_count": 49,
   "id": "a58f2441",
   "metadata": {},
   "outputs": [
    {
     "data": {
      "text/plain": [
       "REVIEW_REGIST_CO\n",
       "1.0     95993\n",
       "2.0     29362\n",
       "3.0     10839\n",
       "4.0      4553\n",
       "5.0      1969\n",
       "6.0       952\n",
       "7.0       464\n",
       "8.0       269\n",
       "9.0       139\n",
       "10.0       92\n",
       "11.0       37\n",
       "12.0       34\n",
       "13.0       19\n",
       "14.0       13\n",
       "16.0       11\n",
       "15.0        6\n",
       "18.0        5\n",
       "17.0        2\n",
       "43.0        1\n",
       "54.0        1\n",
       "22.0        1\n",
       "38.0        1\n",
       "27.0        1\n",
       "36.0        1\n",
       "19.0        1\n",
       "Name: count, dtype: int64"
      ]
     },
     "execution_count": 49,
     "metadata": {},
     "output_type": "execute_result"
    }
   ],
   "source": [
    "df3['REVIEW_REGIST_CO'].value_counts()"
   ]
  },
  {
   "cell_type": "markdown",
   "id": "9d2c9b72",
   "metadata": {},
   "source": [
    "## 1. 야놀자, 여기어때만 남기고 전부 드롭"
   ]
  },
  {
   "cell_type": "code",
   "execution_count": 4,
   "id": "7f881166",
   "metadata": {},
   "outputs": [
    {
     "data": {
      "text/plain": [
       "OTA_NM\n",
       "GOODCHOICE    75532\n",
       "YANOLJA       69234\n",
       "AGODA         66427\n",
       "BOOKING       61822\n",
       "HOTELS        16366\n",
       "EXPEDIA       13737\n",
       "INTERPARK         3\n",
       "Name: count, dtype: int64"
      ]
     },
     "execution_count": 4,
     "metadata": {},
     "output_type": "execute_result"
    }
   ],
   "source": [
    "df3['OTA_NM'].value_counts()"
   ]
  },
  {
   "cell_type": "code",
   "execution_count": 5,
   "id": "23cf427a",
   "metadata": {},
   "outputs": [],
   "source": [
    "# goodchoice, yanolja 만 남기고 드롭\n",
    "df3 = df3[df3['OTA_NM'].isin(['GOODCHOICE', 'YANOLJA'])]\n",
    "df3_ = df3_[df3_['OTA_NM'].isin(['GOODCHOICE', 'YANOLJA'])]\n"
   ]
  },
  {
   "cell_type": "markdown",
   "id": "c80363ea",
   "metadata": {},
   "source": [
    "## 데이터 병합"
   ]
  },
  {
   "cell_type": "code",
   "execution_count": 6,
   "id": "200da559",
   "metadata": {},
   "outputs": [],
   "source": [
    "# 데이터 cancat\n",
    "df = pd.concat([df3, df3_], ignore_index=True)"
   ]
  },
  {
   "cell_type": "markdown",
   "id": "56d04ba0",
   "metadata": {},
   "source": [
    "## 야놀자 단독 프레임 구축\n",
    "- 1. 야놀자만 추출\n",
    "- 2. 월별로 수치형 변수 평균값 내기\n",
    "- 3. 없는 월은 작년 프레임으로 맞추기\n"
   ]
  },
  {
   "cell_type": "code",
   "execution_count": 7,
   "id": "e11b65ca",
   "metadata": {},
   "outputs": [],
   "source": [
    "df = df[df['OTA_NM'] == 'YANOLJA']\n",
    "df.drop(columns=['BASE_DAY'], inplace=True)"
   ]
  },
  {
   "cell_type": "code",
   "execution_count": 8,
   "id": "9bf6d799",
   "metadata": {},
   "outputs": [],
   "source": [
    "# 이름별로 월마다 각각 AVRG_SCORE_VALUE,REVIEW_REGIST_CO 평균값 내기\n",
    "df.groupby(['LDGS_NM', 'BASE_MT']).agg({\n",
    "    'AVRG_SCORE_VALUE': 'mean',\n",
    "    'REVIEW_REGIST_CO': 'mean'})\n",
    "# 월별로 수치형 변수 평균값 내기\n",
    "mean_df= df.groupby(['LDGS_NM', 'BASE_MT']).agg({\n",
    "    'AVRG_SCORE_VALUE': 'mean',\n",
    "    'REVIEW_REGIST_CO': 'mean'}).reset_index()\n",
    "\n"
   ]
  },
  {
   "cell_type": "code",
   "execution_count": 11,
   "id": "2d9a3059",
   "metadata": {},
   "outputs": [],
   "source": [
    "\n",
    "# mean_df의 수치형 변수의 평균값을 'LDGS_NM', 'BASE_MT' 별로 맵핑\n",
    "\n",
    "df = df.merge(mean_df, on=['LDGS_NM', 'BASE_MT'], suffixes=('', '_MEAN'))\n",
    "df.drop(columns=['REVIEW_REGIST_CO','AVRG_SCORE_VALUE'], inplace=True)"
   ]
  },
  {
   "cell_type": "code",
   "execution_count": 13,
   "id": "26252da8",
   "metadata": {},
   "outputs": [],
   "source": [
    "df = df.drop_duplicates(subset=['LDGS_NM', 'BASE_MT'])"
   ]
  },
  {
   "cell_type": "code",
   "execution_count": 16,
   "id": "f39d3c75",
   "metadata": {},
   "outputs": [],
   "source": [
    "df.columns=[['LDGS_NM', 'CTPRVN_NM', 'GUGUN_NM', 'OTA_NM', 'BASE_YEAR', 'BASE_MT',\n",
    "       'AVRG_SCORE_VALUE_MEAN', 'REVIEW_REGIST_CO_MEAN',\n",
    "       'AVRG_SCORE_VALUE_MEAN1', 'REVIEW_REGIST_CO_MEAN1']]"
   ]
  },
  {
   "cell_type": "code",
   "execution_count": 18,
   "id": "3d3c29b5",
   "metadata": {},
   "outputs": [
    {
     "name": "stderr",
     "output_type": "stream",
     "text": [
      "C:\\Users\\user\\AppData\\Local\\Temp\\ipykernel_5208\\1589089306.py:1: PerformanceWarning: dropping on a non-lexsorted multi-index without a level parameter may impact performance.\n",
      "  df.drop(columns=['AVRG_SCORE_VALUE_MEAN1','REVIEW_REGIST_CO_MEAN1'], inplace=True)\n",
      "C:\\Users\\user\\AppData\\Local\\Temp\\ipykernel_5208\\1589089306.py:1: SettingWithCopyWarning: \n",
      "A value is trying to be set on a copy of a slice from a DataFrame\n",
      "\n",
      "See the caveats in the documentation: https://pandas.pydata.org/pandas-docs/stable/user_guide/indexing.html#returning-a-view-versus-a-copy\n",
      "  df.drop(columns=['AVRG_SCORE_VALUE_MEAN1','REVIEW_REGIST_CO_MEAN1'], inplace=True)\n"
     ]
    }
   ],
   "source": [
    "df.drop(columns=['AVRG_SCORE_VALUE_MEAN1','REVIEW_REGIST_CO_MEAN1'], inplace=True)"
   ]
  },
  {
   "cell_type": "markdown",
   "id": "9beba4c5",
   "metadata": {},
   "source": [
    "df"
   ]
  },
  {
   "cell_type": "markdown",
   "id": "fe57a0e2",
   "metadata": {},
   "source": [
    "## 없는 월 채우기"
   ]
  },
  {
   "cell_type": "markdown",
   "id": "f775e0fe",
   "metadata": {},
   "source": [
    "- df_12 : 23년 12분기\n",
    "- df_34 : 23년 34분기\n",
    "- df_add : 1234분기 야놀자만 남기고 합친 데이터프레임\n",
    "\n"
   ]
  },
  {
   "cell_type": "code",
   "execution_count": 35,
   "id": "46c4a938",
   "metadata": {},
   "outputs": [],
   "source": [
    "df_12 = pd.read_csv('23년1,2분기.csv')\n",
    "df_34 = pd.read_csv('23년 3,4분기.csv')\n",
    "df_22 = pd.read_csv('22.csv')"
   ]
  },
  {
   "cell_type": "markdown",
   "id": "267a39fc",
   "metadata": {},
   "source": [
    "#### 야놀자만 남기고 전부 드롭\n"
   ]
  },
  {
   "cell_type": "code",
   "execution_count": 36,
   "id": "6b07e10b",
   "metadata": {},
   "outputs": [],
   "source": [
    "df_12 = df_12[df_12['OTA_NM'] == 'YANOLJA']\n",
    "df_12.drop(columns=['BASE_DAY'], inplace=True)\n",
    "df_34 = df_34[df_34['OTA_NM'] == 'YANOLJA']\n",
    "df_34.drop(columns=['BASE_DAY'], inplace=True)\n",
    "df_22 = df_22[df_22['OTA_NM'] == 'YANOLJA']\n",
    "df_22.drop(columns=['BASE_DAY'], inplace=True)"
   ]
  },
  {
   "cell_type": "code",
   "execution_count": 37,
   "id": "11b03149",
   "metadata": {},
   "outputs": [],
   "source": [
    "df_add = pd.concat([df_12, df_34,df_22], ignore_index=True)"
   ]
  },
  {
   "cell_type": "code",
   "execution_count": 41,
   "id": "5e8d5664",
   "metadata": {},
   "outputs": [
    {
     "data": {
      "text/plain": [
       "BASE_MT\n",
       "8     1241\n",
       "7     1138\n",
       "10     908\n",
       "9      900\n",
       "12     458\n",
       "11     423\n",
       "1      319\n",
       "2      257\n",
       "3      208\n",
       "4      139\n",
       "5      112\n",
       "6       77\n",
       "Name: count, dtype: int64"
      ]
     },
     "execution_count": 41,
     "metadata": {},
     "output_type": "execute_result"
    }
   ],
   "source": [
    "df_add['BASE_MT'].value_counts()"
   ]
  },
  {
   "cell_type": "code",
   "execution_count": 42,
   "id": "49815c83",
   "metadata": {},
   "outputs": [],
   "source": [
    "# 이름별로 월마다 각각 AVRG_SCORE_VALUE,REVIEW_REGIST_CO 평균값 내기\n",
    "df_add.groupby(['LDGS_NM', 'BASE_MT']).agg({\n",
    "    'AVRG_SCORE_VALUE': 'mean',\n",
    "    'REVIEW_REGIST_CO': 'mean'})\n",
    "# 월별로 수치형 변수 평균값 내기\n",
    "mean_df_add= df_add.groupby(['LDGS_NM', 'BASE_MT']).agg({\n",
    "    'AVRG_SCORE_VALUE': 'mean',\n",
    "    'REVIEW_REGIST_CO': 'mean'}).reset_index()\n"
   ]
  },
  {
   "cell_type": "code",
   "execution_count": 43,
   "id": "8891b039",
   "metadata": {},
   "outputs": [],
   "source": [
    "\n",
    "# mean_df의 수치형 변수의 평균값을 'LDGS_NM', 'BASE_MT' 별로 맵핑\n",
    "\n",
    "df_add = df_add.merge(mean_df_add, on=['LDGS_NM', 'BASE_MT'], suffixes=('', '_MEAN'))\n",
    "df_add.drop(columns=['REVIEW_REGIST_CO','AVRG_SCORE_VALUE'], inplace=True)"
   ]
  },
  {
   "cell_type": "code",
   "execution_count": 44,
   "id": "ffa10ddc",
   "metadata": {},
   "outputs": [
    {
     "data": {
      "text/html": [
       "<div>\n",
       "<style scoped>\n",
       "    .dataframe tbody tr th:only-of-type {\n",
       "        vertical-align: middle;\n",
       "    }\n",
       "\n",
       "    .dataframe tbody tr th {\n",
       "        vertical-align: top;\n",
       "    }\n",
       "\n",
       "    .dataframe thead th {\n",
       "        text-align: right;\n",
       "    }\n",
       "</style>\n",
       "<table border=\"1\" class=\"dataframe\">\n",
       "  <thead>\n",
       "    <tr style=\"text-align: right;\">\n",
       "      <th></th>\n",
       "      <th>LDGS_NM</th>\n",
       "      <th>CTPRVN_NM</th>\n",
       "      <th>GUGUN_NM</th>\n",
       "      <th>OTA_NM</th>\n",
       "      <th>BASE_YEAR</th>\n",
       "      <th>BASE_MT</th>\n",
       "      <th>AVRG_SCORE_VALUE_MEAN</th>\n",
       "      <th>REVIEW_REGIST_CO_MEAN</th>\n",
       "    </tr>\n",
       "  </thead>\n",
       "  <tbody>\n",
       "    <tr>\n",
       "      <th>0</th>\n",
       "      <td>G2 호텔</td>\n",
       "      <td>서울</td>\n",
       "      <td>중구</td>\n",
       "      <td>YANOLJA</td>\n",
       "      <td>2023</td>\n",
       "      <td>1</td>\n",
       "      <td>9.333333</td>\n",
       "      <td>1.000000</td>\n",
       "    </tr>\n",
       "    <tr>\n",
       "      <th>1</th>\n",
       "      <td>G2 호텔</td>\n",
       "      <td>서울</td>\n",
       "      <td>중구</td>\n",
       "      <td>YANOLJA</td>\n",
       "      <td>2023</td>\n",
       "      <td>1</td>\n",
       "      <td>9.333333</td>\n",
       "      <td>1.000000</td>\n",
       "    </tr>\n",
       "    <tr>\n",
       "      <th>2</th>\n",
       "      <td>G2 호텔</td>\n",
       "      <td>서울</td>\n",
       "      <td>중구</td>\n",
       "      <td>YANOLJA</td>\n",
       "      <td>2023</td>\n",
       "      <td>1</td>\n",
       "      <td>9.333333</td>\n",
       "      <td>1.000000</td>\n",
       "    </tr>\n",
       "    <tr>\n",
       "      <th>3</th>\n",
       "      <td>SR 호텔  사당</td>\n",
       "      <td>서울</td>\n",
       "      <td>동작구</td>\n",
       "      <td>YANOLJA</td>\n",
       "      <td>2023</td>\n",
       "      <td>1</td>\n",
       "      <td>9.857143</td>\n",
       "      <td>1.571429</td>\n",
       "    </tr>\n",
       "    <tr>\n",
       "      <th>4</th>\n",
       "      <td>SR 호텔  사당</td>\n",
       "      <td>서울</td>\n",
       "      <td>동작구</td>\n",
       "      <td>YANOLJA</td>\n",
       "      <td>2023</td>\n",
       "      <td>1</td>\n",
       "      <td>9.857143</td>\n",
       "      <td>1.571429</td>\n",
       "    </tr>\n",
       "    <tr>\n",
       "      <th>...</th>\n",
       "      <td>...</td>\n",
       "      <td>...</td>\n",
       "      <td>...</td>\n",
       "      <td>...</td>\n",
       "      <td>...</td>\n",
       "      <td>...</td>\n",
       "      <td>...</td>\n",
       "      <td>...</td>\n",
       "    </tr>\n",
       "    <tr>\n",
       "      <th>6175</th>\n",
       "      <td>씨엘오션호텔</td>\n",
       "      <td>부산</td>\n",
       "      <td>강서구</td>\n",
       "      <td>YANOLJA</td>\n",
       "      <td>2022</td>\n",
       "      <td>10</td>\n",
       "      <td>9.550000</td>\n",
       "      <td>1.700000</td>\n",
       "    </tr>\n",
       "    <tr>\n",
       "      <th>6176</th>\n",
       "      <td>씨엘오션호텔</td>\n",
       "      <td>부산</td>\n",
       "      <td>강서구</td>\n",
       "      <td>YANOLJA</td>\n",
       "      <td>2022</td>\n",
       "      <td>10</td>\n",
       "      <td>9.550000</td>\n",
       "      <td>1.700000</td>\n",
       "    </tr>\n",
       "    <tr>\n",
       "      <th>6177</th>\n",
       "      <td>씨엘오션호텔</td>\n",
       "      <td>부산</td>\n",
       "      <td>강서구</td>\n",
       "      <td>YANOLJA</td>\n",
       "      <td>2022</td>\n",
       "      <td>10</td>\n",
       "      <td>9.550000</td>\n",
       "      <td>1.700000</td>\n",
       "    </tr>\n",
       "    <tr>\n",
       "      <th>6178</th>\n",
       "      <td>씨엘오션호텔</td>\n",
       "      <td>부산</td>\n",
       "      <td>강서구</td>\n",
       "      <td>YANOLJA</td>\n",
       "      <td>2022</td>\n",
       "      <td>10</td>\n",
       "      <td>9.550000</td>\n",
       "      <td>1.700000</td>\n",
       "    </tr>\n",
       "    <tr>\n",
       "      <th>6179</th>\n",
       "      <td>씨엘오션호텔</td>\n",
       "      <td>부산</td>\n",
       "      <td>강서구</td>\n",
       "      <td>YANOLJA</td>\n",
       "      <td>2022</td>\n",
       "      <td>10</td>\n",
       "      <td>9.550000</td>\n",
       "      <td>1.700000</td>\n",
       "    </tr>\n",
       "  </tbody>\n",
       "</table>\n",
       "<p>6180 rows × 8 columns</p>\n",
       "</div>"
      ],
      "text/plain": [
       "        LDGS_NM CTPRVN_NM GUGUN_NM   OTA_NM  BASE_YEAR  BASE_MT  \\\n",
       "0         G2 호텔        서울       중구  YANOLJA       2023        1   \n",
       "1         G2 호텔        서울       중구  YANOLJA       2023        1   \n",
       "2         G2 호텔        서울       중구  YANOLJA       2023        1   \n",
       "3     SR 호텔  사당        서울      동작구  YANOLJA       2023        1   \n",
       "4     SR 호텔  사당        서울      동작구  YANOLJA       2023        1   \n",
       "...         ...       ...      ...      ...        ...      ...   \n",
       "6175     씨엘오션호텔        부산      강서구  YANOLJA       2022       10   \n",
       "6176     씨엘오션호텔        부산      강서구  YANOLJA       2022       10   \n",
       "6177     씨엘오션호텔        부산      강서구  YANOLJA       2022       10   \n",
       "6178     씨엘오션호텔        부산      강서구  YANOLJA       2022       10   \n",
       "6179     씨엘오션호텔        부산      강서구  YANOLJA       2022       10   \n",
       "\n",
       "      AVRG_SCORE_VALUE_MEAN  REVIEW_REGIST_CO_MEAN  \n",
       "0                  9.333333               1.000000  \n",
       "1                  9.333333               1.000000  \n",
       "2                  9.333333               1.000000  \n",
       "3                  9.857143               1.571429  \n",
       "4                  9.857143               1.571429  \n",
       "...                     ...                    ...  \n",
       "6175               9.550000               1.700000  \n",
       "6176               9.550000               1.700000  \n",
       "6177               9.550000               1.700000  \n",
       "6178               9.550000               1.700000  \n",
       "6179               9.550000               1.700000  \n",
       "\n",
       "[6180 rows x 8 columns]"
      ]
     },
     "execution_count": 44,
     "metadata": {},
     "output_type": "execute_result"
    }
   ],
   "source": [
    "df_add"
   ]
  },
  {
   "cell_type": "code",
   "execution_count": 46,
   "id": "772632db",
   "metadata": {},
   "outputs": [
    {
     "data": {
      "text/html": [
       "<div>\n",
       "<style scoped>\n",
       "    .dataframe tbody tr th:only-of-type {\n",
       "        vertical-align: middle;\n",
       "    }\n",
       "\n",
       "    .dataframe tbody tr th {\n",
       "        vertical-align: top;\n",
       "    }\n",
       "\n",
       "    .dataframe thead tr th {\n",
       "        text-align: left;\n",
       "    }\n",
       "</style>\n",
       "<table border=\"1\" class=\"dataframe\">\n",
       "  <thead>\n",
       "    <tr>\n",
       "      <th></th>\n",
       "      <th>LDGS_NM</th>\n",
       "      <th>CTPRVN_NM</th>\n",
       "      <th>GUGUN_NM</th>\n",
       "      <th>OTA_NM</th>\n",
       "      <th>BASE_YEAR</th>\n",
       "      <th>BASE_MT</th>\n",
       "      <th>AVRG_SCORE_VALUE_MEAN</th>\n",
       "      <th>REVIEW_REGIST_CO_MEAN</th>\n",
       "    </tr>\n",
       "  </thead>\n",
       "  <tbody>\n",
       "    <tr>\n",
       "      <th>0</th>\n",
       "      <td>솔라리아 니시테츠 부산</td>\n",
       "      <td>부산광역시</td>\n",
       "      <td>부산진구</td>\n",
       "      <td>YANOLJA</td>\n",
       "      <td>2024</td>\n",
       "      <td>6</td>\n",
       "      <td>10.0</td>\n",
       "      <td>1.25</td>\n",
       "    </tr>\n",
       "    <tr>\n",
       "      <th>4</th>\n",
       "      <td>솔라리아 니시테츠 부산</td>\n",
       "      <td>부산광역시</td>\n",
       "      <td>부산진구</td>\n",
       "      <td>YANOLJA</td>\n",
       "      <td>2024</td>\n",
       "      <td>7</td>\n",
       "      <td>9.2</td>\n",
       "      <td>1.20</td>\n",
       "    </tr>\n",
       "    <tr>\n",
       "      <th>9</th>\n",
       "      <td>부산 비즈니스 호텔</td>\n",
       "      <td>부산광역시</td>\n",
       "      <td>부산진구</td>\n",
       "      <td>YANOLJA</td>\n",
       "      <td>2024</td>\n",
       "      <td>6</td>\n",
       "      <td>8.9</td>\n",
       "      <td>1.60</td>\n",
       "    </tr>\n",
       "    <tr>\n",
       "      <th>19</th>\n",
       "      <td>부산 비즈니스 호텔</td>\n",
       "      <td>부산광역시</td>\n",
       "      <td>부산진구</td>\n",
       "      <td>YANOLJA</td>\n",
       "      <td>2024</td>\n",
       "      <td>7</td>\n",
       "      <td>10.0</td>\n",
       "      <td>1.00</td>\n",
       "    </tr>\n",
       "    <tr>\n",
       "      <th>20</th>\n",
       "      <td>스탠포드 인 부산</td>\n",
       "      <td>부산광역시</td>\n",
       "      <td>중구</td>\n",
       "      <td>YANOLJA</td>\n",
       "      <td>2024</td>\n",
       "      <td>6</td>\n",
       "      <td>10.0</td>\n",
       "      <td>1.00</td>\n",
       "    </tr>\n",
       "    <tr>\n",
       "      <th>...</th>\n",
       "      <td>...</td>\n",
       "      <td>...</td>\n",
       "      <td>...</td>\n",
       "      <td>...</td>\n",
       "      <td>...</td>\n",
       "      <td>...</td>\n",
       "      <td>...</td>\n",
       "      <td>...</td>\n",
       "    </tr>\n",
       "    <tr>\n",
       "      <th>116535</th>\n",
       "      <td>광주 충장로 하운드 호텔(구. 워싱턴 호텔)</td>\n",
       "      <td>광주광역시</td>\n",
       "      <td>동구</td>\n",
       "      <td>YANOLJA</td>\n",
       "      <td>2024</td>\n",
       "      <td>2</td>\n",
       "      <td>9.2</td>\n",
       "      <td>1.00</td>\n",
       "    </tr>\n",
       "    <tr>\n",
       "      <th>116540</th>\n",
       "      <td>광주 충장로 하운드 호텔(구. 워싱턴 호텔)</td>\n",
       "      <td>광주광역시</td>\n",
       "      <td>동구</td>\n",
       "      <td>YANOLJA</td>\n",
       "      <td>2024</td>\n",
       "      <td>3</td>\n",
       "      <td>9.5</td>\n",
       "      <td>1.25</td>\n",
       "    </tr>\n",
       "    <tr>\n",
       "      <th>116548</th>\n",
       "      <td>광주 충장로 하운드 호텔(구. 워싱턴 호텔)</td>\n",
       "      <td>광주광역시</td>\n",
       "      <td>동구</td>\n",
       "      <td>YANOLJA</td>\n",
       "      <td>2024</td>\n",
       "      <td>4</td>\n",
       "      <td>9.6</td>\n",
       "      <td>1.50</td>\n",
       "    </tr>\n",
       "    <tr>\n",
       "      <th>116558</th>\n",
       "      <td>광주 충장로 하운드 호텔(구. 워싱턴 호텔)</td>\n",
       "      <td>광주광역시</td>\n",
       "      <td>동구</td>\n",
       "      <td>YANOLJA</td>\n",
       "      <td>2024</td>\n",
       "      <td>5</td>\n",
       "      <td>8.0</td>\n",
       "      <td>1.50</td>\n",
       "    </tr>\n",
       "    <tr>\n",
       "      <th>116564</th>\n",
       "      <td>보령(대천) 호텔 로하스</td>\n",
       "      <td>충청남도</td>\n",
       "      <td>보령시</td>\n",
       "      <td>YANOLJA</td>\n",
       "      <td>2024</td>\n",
       "      <td>1</td>\n",
       "      <td>8.0</td>\n",
       "      <td>1.00</td>\n",
       "    </tr>\n",
       "  </tbody>\n",
       "</table>\n",
       "<p>15836 rows × 8 columns</p>\n",
       "</div>"
      ],
      "text/plain": [
       "                         LDGS_NM CTPRVN_NM GUGUN_NM   OTA_NM BASE_YEAR  \\\n",
       "0                   솔라리아 니시테츠 부산     부산광역시     부산진구  YANOLJA      2024   \n",
       "4                   솔라리아 니시테츠 부산     부산광역시     부산진구  YANOLJA      2024   \n",
       "9                     부산 비즈니스 호텔     부산광역시     부산진구  YANOLJA      2024   \n",
       "19                    부산 비즈니스 호텔     부산광역시     부산진구  YANOLJA      2024   \n",
       "20                     스탠포드 인 부산     부산광역시       중구  YANOLJA      2024   \n",
       "...                          ...       ...      ...      ...       ...   \n",
       "116535  광주 충장로 하운드 호텔(구. 워싱턴 호텔)     광주광역시       동구  YANOLJA      2024   \n",
       "116540  광주 충장로 하운드 호텔(구. 워싱턴 호텔)     광주광역시       동구  YANOLJA      2024   \n",
       "116548  광주 충장로 하운드 호텔(구. 워싱턴 호텔)     광주광역시       동구  YANOLJA      2024   \n",
       "116558  광주 충장로 하운드 호텔(구. 워싱턴 호텔)     광주광역시       동구  YANOLJA      2024   \n",
       "116564             보령(대천) 호텔 로하스      충청남도      보령시  YANOLJA      2024   \n",
       "\n",
       "       BASE_MT AVRG_SCORE_VALUE_MEAN REVIEW_REGIST_CO_MEAN  \n",
       "0            6                  10.0                  1.25  \n",
       "4            7                   9.2                  1.20  \n",
       "9            6                   8.9                  1.60  \n",
       "19           7                  10.0                  1.00  \n",
       "20           6                  10.0                  1.00  \n",
       "...        ...                   ...                   ...  \n",
       "116535       2                   9.2                  1.00  \n",
       "116540       3                   9.5                  1.25  \n",
       "116548       4                   9.6                  1.50  \n",
       "116558       5                   8.0                  1.50  \n",
       "116564       1                   8.0                  1.00  \n",
       "\n",
       "[15836 rows x 8 columns]"
      ]
     },
     "execution_count": 46,
     "metadata": {},
     "output_type": "execute_result"
    }
   ],
   "source": [
    "df"
   ]
  },
  {
   "cell_type": "code",
   "execution_count": 48,
   "id": "10cffa03",
   "metadata": {},
   "outputs": [
    {
     "data": {
      "text/html": [
       "<div>\n",
       "<style scoped>\n",
       "    .dataframe tbody tr th:only-of-type {\n",
       "        vertical-align: middle;\n",
       "    }\n",
       "\n",
       "    .dataframe tbody tr th {\n",
       "        vertical-align: top;\n",
       "    }\n",
       "\n",
       "    .dataframe thead tr th {\n",
       "        text-align: left;\n",
       "    }\n",
       "</style>\n",
       "<table border=\"1\" class=\"dataframe\">\n",
       "  <thead>\n",
       "    <tr>\n",
       "      <th></th>\n",
       "      <th>LDGS_NM</th>\n",
       "      <th>CTPRVN_NM</th>\n",
       "      <th>GUGUN_NM</th>\n",
       "      <th>OTA_NM</th>\n",
       "      <th>BASE_YEAR</th>\n",
       "      <th>BASE_MT</th>\n",
       "      <th>AVRG_SCORE_VALUE_MEAN</th>\n",
       "      <th>REVIEW_REGIST_CO_MEAN</th>\n",
       "    </tr>\n",
       "  </thead>\n",
       "  <tbody>\n",
       "    <tr>\n",
       "      <th>0</th>\n",
       "      <td>NaN</td>\n",
       "      <td>NaN</td>\n",
       "      <td>NaN</td>\n",
       "      <td>NaN</td>\n",
       "      <td>NaN</td>\n",
       "      <td>NaN</td>\n",
       "      <td>NaN</td>\n",
       "      <td>NaN</td>\n",
       "    </tr>\n",
       "    <tr>\n",
       "      <th>4</th>\n",
       "      <td>NaN</td>\n",
       "      <td>NaN</td>\n",
       "      <td>NaN</td>\n",
       "      <td>NaN</td>\n",
       "      <td>NaN</td>\n",
       "      <td>NaN</td>\n",
       "      <td>NaN</td>\n",
       "      <td>NaN</td>\n",
       "    </tr>\n",
       "    <tr>\n",
       "      <th>9</th>\n",
       "      <td>NaN</td>\n",
       "      <td>NaN</td>\n",
       "      <td>NaN</td>\n",
       "      <td>NaN</td>\n",
       "      <td>NaN</td>\n",
       "      <td>NaN</td>\n",
       "      <td>NaN</td>\n",
       "      <td>NaN</td>\n",
       "    </tr>\n",
       "    <tr>\n",
       "      <th>19</th>\n",
       "      <td>NaN</td>\n",
       "      <td>NaN</td>\n",
       "      <td>NaN</td>\n",
       "      <td>NaN</td>\n",
       "      <td>NaN</td>\n",
       "      <td>NaN</td>\n",
       "      <td>NaN</td>\n",
       "      <td>NaN</td>\n",
       "    </tr>\n",
       "    <tr>\n",
       "      <th>20</th>\n",
       "      <td>NaN</td>\n",
       "      <td>NaN</td>\n",
       "      <td>NaN</td>\n",
       "      <td>NaN</td>\n",
       "      <td>NaN</td>\n",
       "      <td>NaN</td>\n",
       "      <td>NaN</td>\n",
       "      <td>NaN</td>\n",
       "    </tr>\n",
       "    <tr>\n",
       "      <th>...</th>\n",
       "      <td>...</td>\n",
       "      <td>...</td>\n",
       "      <td>...</td>\n",
       "      <td>...</td>\n",
       "      <td>...</td>\n",
       "      <td>...</td>\n",
       "      <td>...</td>\n",
       "      <td>...</td>\n",
       "    </tr>\n",
       "    <tr>\n",
       "      <th>116535</th>\n",
       "      <td>NaN</td>\n",
       "      <td>NaN</td>\n",
       "      <td>NaN</td>\n",
       "      <td>NaN</td>\n",
       "      <td>NaN</td>\n",
       "      <td>NaN</td>\n",
       "      <td>NaN</td>\n",
       "      <td>NaN</td>\n",
       "    </tr>\n",
       "    <tr>\n",
       "      <th>116540</th>\n",
       "      <td>NaN</td>\n",
       "      <td>NaN</td>\n",
       "      <td>NaN</td>\n",
       "      <td>NaN</td>\n",
       "      <td>NaN</td>\n",
       "      <td>NaN</td>\n",
       "      <td>NaN</td>\n",
       "      <td>NaN</td>\n",
       "    </tr>\n",
       "    <tr>\n",
       "      <th>116548</th>\n",
       "      <td>NaN</td>\n",
       "      <td>NaN</td>\n",
       "      <td>NaN</td>\n",
       "      <td>NaN</td>\n",
       "      <td>NaN</td>\n",
       "      <td>NaN</td>\n",
       "      <td>NaN</td>\n",
       "      <td>NaN</td>\n",
       "    </tr>\n",
       "    <tr>\n",
       "      <th>116558</th>\n",
       "      <td>NaN</td>\n",
       "      <td>NaN</td>\n",
       "      <td>NaN</td>\n",
       "      <td>NaN</td>\n",
       "      <td>NaN</td>\n",
       "      <td>NaN</td>\n",
       "      <td>NaN</td>\n",
       "      <td>NaN</td>\n",
       "    </tr>\n",
       "    <tr>\n",
       "      <th>116564</th>\n",
       "      <td>NaN</td>\n",
       "      <td>NaN</td>\n",
       "      <td>NaN</td>\n",
       "      <td>NaN</td>\n",
       "      <td>NaN</td>\n",
       "      <td>NaN</td>\n",
       "      <td>NaN</td>\n",
       "      <td>NaN</td>\n",
       "    </tr>\n",
       "  </tbody>\n",
       "</table>\n",
       "<p>15836 rows × 8 columns</p>\n",
       "</div>"
      ],
      "text/plain": [
       "       LDGS_NM CTPRVN_NM GUGUN_NM OTA_NM BASE_YEAR BASE_MT  \\\n",
       "0          NaN       NaN      NaN    NaN       NaN     NaN   \n",
       "4          NaN       NaN      NaN    NaN       NaN     NaN   \n",
       "9          NaN       NaN      NaN    NaN       NaN     NaN   \n",
       "19         NaN       NaN      NaN    NaN       NaN     NaN   \n",
       "20         NaN       NaN      NaN    NaN       NaN     NaN   \n",
       "...        ...       ...      ...    ...       ...     ...   \n",
       "116535     NaN       NaN      NaN    NaN       NaN     NaN   \n",
       "116540     NaN       NaN      NaN    NaN       NaN     NaN   \n",
       "116548     NaN       NaN      NaN    NaN       NaN     NaN   \n",
       "116558     NaN       NaN      NaN    NaN       NaN     NaN   \n",
       "116564     NaN       NaN      NaN    NaN       NaN     NaN   \n",
       "\n",
       "       AVRG_SCORE_VALUE_MEAN REVIEW_REGIST_CO_MEAN  \n",
       "0                        NaN                   NaN  \n",
       "4                        NaN                   NaN  \n",
       "9                        NaN                   NaN  \n",
       "19                       NaN                   NaN  \n",
       "20                       NaN                   NaN  \n",
       "...                      ...                   ...  \n",
       "116535                   NaN                   NaN  \n",
       "116540                   NaN                   NaN  \n",
       "116548                   NaN                   NaN  \n",
       "116558                   NaN                   NaN  \n",
       "116564                   NaN                   NaN  \n",
       "\n",
       "[15836 rows x 8 columns]"
      ]
     },
     "execution_count": 48,
     "metadata": {},
     "output_type": "execute_result"
    }
   ],
   "source": [
    "df[df['LDGS_NM']=='SR 호텔 사당']"
   ]
  },
  {
   "cell_type": "code",
   "execution_count": 33,
   "id": "e114f3e7",
   "metadata": {},
   "outputs": [
    {
     "data": {
      "text/plain": [
       "(LDGS_NM,)   \n",
       "3s 부티크 호텔        11\n",
       "H-AVENUE 광안리점    11\n",
       "JOY 모텔           11\n",
       "황남관 한옥체험마을       11\n",
       "WD호텔             11\n",
       "                 ..\n",
       "제천 송계계곡캠핑장펜션      1\n",
       "제천 산중다연펜션         1\n",
       "제천 산과계곡그리고나펜션     1\n",
       "제천 명암오토캠핑장펜션      1\n",
       "제천 호수민박펜션         1\n",
       "Name: count, Length: 3653, dtype: int64"
      ]
     },
     "execution_count": 33,
     "metadata": {},
     "output_type": "execute_result"
    }
   ],
   "source": [
    "df['LDGS_NM'].value_counts(\n",
    "    \n",
    ")"
   ]
  },
  {
   "cell_type": "markdown",
   "id": "a80d691d",
   "metadata": {},
   "source": [
    "# 정제 계획\n",
    "    **숙소 id별로 필요한 컬럼 매핑 후 필요한 열 웹크롤링 진행**\n",
    "- 1. 숙소id "
   ]
  },
  {
   "cell_type": "code",
   "execution_count": null,
   "id": "72f16eff",
   "metadata": {},
   "outputs": [],
   "source": [
    "import pandas as pd\n",
    "df = pd.read_csv('YN_LDGS_STAYNG_TY_202412.csv')\n",
    "df1 =pd.read_csv('YN_LDGS_PROPERTY_INFO_202412.csv')\n",
    "df2 =pd.read_csv('YN_LDGS_PROPERTY_LC_INFO_202412.csv')\n",
    "df3 =pd.read_csv('YN_LDGS_PROPERTY_USGTM_202412.csv')"
   ]
  },
  {
   "cell_type": "code",
   "execution_count": null,
   "id": "f6b0ee37",
   "metadata": {},
   "outputs": [],
   "source": [
    "# df1, df2, df3을 LDGS_CD, LDGS_NM 기준으로 df에 매핑(merge)\n",
    "df_merged = df.merge(df1, on=['LDGS_CD', 'LDGS_NM'], how='left') \\\n",
    "              .merge(df2, on=['LDGS_CD', 'LDGS_NM'], how='left') \\\n",
    "              .merge(df3, on=['LDGS_CD', 'LDGS_NM'], how='left')\n",
    "df_merged"
   ]
  },
  {
   "cell_type": "code",
   "execution_count": null,
   "id": "514e7c86",
   "metadata": {},
   "outputs": [],
   "source": [
    "누락값 = df_merged[df_merged['CHIN_TIME'].isna()]"
   ]
  },
  {
   "cell_type": "code",
   "execution_count": null,
   "id": "0a9f56a5",
   "metadata": {},
   "outputs": [],
   "source": [
    "누락값.to_csv('체크인아웃누락.csv')"
   ]
  },
  {
   "cell_type": "code",
   "execution_count": null,
   "id": "4a4439e4",
   "metadata": {},
   "outputs": [],
   "source": [
    "df_nan = pd.read_csv('YN_LDGS_PROPERTY_USGTM_202411.csv')"
   ]
  },
  {
   "cell_type": "code",
   "execution_count": null,
   "id": "912565a2",
   "metadata": {},
   "outputs": [],
   "source": [
    "df_nan1 = pd.read_csv('YN_LDGS_PROPERTY_USGTM_202410.csv')"
   ]
  },
  {
   "cell_type": "code",
   "execution_count": null,
   "id": "79196253",
   "metadata": {},
   "outputs": [],
   "source": [
    "df_nan1"
   ]
  },
  {
   "cell_type": "code",
   "execution_count": null,
   "id": "61eea719",
   "metadata": {},
   "outputs": [],
   "source": [
    "df_merged"
   ]
  },
  {
   "cell_type": "code",
   "execution_count": null,
   "id": "00d6da90",
   "metadata": {},
   "outputs": [],
   "source": [
    "df_merged.to_csv('메인프레임.csv', index=False)"
   ]
  },
  {
   "cell_type": "code",
   "execution_count": null,
   "id": "4083b665",
   "metadata": {},
   "outputs": [],
   "source": [
    "df_merged = pd.read_csv('메인프레임.csv')"
   ]
  },
  {
   "cell_type": "code",
   "execution_count": null,
   "id": "a407747f",
   "metadata": {},
   "outputs": [],
   "source": [
    "df_merged['LDGS_NM'].value_counts(\n",
    "    \n",
    ")"
   ]
  },
  {
   "cell_type": "code",
   "execution_count": null,
   "id": "0761dbe6",
   "metadata": {},
   "outputs": [],
   "source": [
    "df_merged['LDGS_NM'] = df_merged['LDGS_NM'].str.replace(' ', '')"
   ]
  },
  {
   "cell_type": "markdown",
   "id": "1773d3ba",
   "metadata": {},
   "source": [
    "# 검색어 매핑"
   ]
  },
  {
   "cell_type": "code",
   "execution_count": null,
   "id": "21eb38c7",
   "metadata": {},
   "outputs": [],
   "source": [
    "searchdf = pd.read_csv('검색량.csv')"
   ]
  },
  {
   "cell_type": "code",
   "execution_count": null,
   "id": "afd6fb7b",
   "metadata": {},
   "outputs": [],
   "source": [
    "searchdf['숙소'].value_counts(\n",
    "    \n",
    ")"
   ]
  },
  {
   "cell_type": "code",
   "execution_count": null,
   "id": "7dd27679",
   "metadata": {},
   "outputs": [],
   "source": [
    "\n",
    "keyword= searchdf.set_index('숙소')['월간 검색량(전체)'].to_dict()\n",
    "\n",
    "df_merged['숙소 검색량(전체)'] = df_merged['LDGS_NM'].map(keyword)\n",
    "\n"
   ]
  },
  {
   "cell_type": "markdown",
   "id": "1a37205b",
   "metadata": {},
   "source": [
    "- 누락값 확인"
   ]
  },
  {
   "cell_type": "code",
   "execution_count": null,
   "id": "24cb1ffe",
   "metadata": {},
   "outputs": [],
   "source": [
    "searchdf_re = df_merged[df_merged['숙소 검색량(전체)'].isna()]"
   ]
  },
  {
   "cell_type": "code",
   "execution_count": null,
   "id": "b9d08b0c",
   "metadata": {},
   "outputs": [],
   "source": [
    "searchdf_re.to_csv('searchdf_re.csv', index=False)"
   ]
  },
  {
   "cell_type": "code",
   "execution_count": null,
   "id": "937d188c",
   "metadata": {},
   "outputs": [],
   "source": [
    "df= pd.read_csv('searchdf_re.csv')"
   ]
  },
  {
   "cell_type": "markdown",
   "id": "ef47bb24",
   "metadata": {},
   "source": [
    "- 확인 후 재 웹크롤링"
   ]
  },
  {
   "cell_type": "code",
   "execution_count": null,
   "id": "80bdc4b7",
   "metadata": {},
   "outputs": [],
   "source": [
    "from selenium import webdriver\n",
    "from selenium.webdriver.common.by import By\n",
    "from selenium.webdriver.common.keys import Keys\n",
    "from selenium.webdriver.support.ui import WebDriverWait\n",
    "from selenium.webdriver.support import expected_conditions as EC\n",
    "import pandas as pd\n",
    "import time\n",
    "# 1. 키워드 불러오기\n",
    "df = pd.read_csv('searchdf_re.csv')\n",
    "sample = df.iloc[:, 1].dropna().astype(str).str.strip().tolist()\n",
    "# 2. 100개씩 분할\n",
    "def chunk_list(lst, size):\n",
    "    return [lst[i:i+size] for i in range(0, len(lst), size)]\n",
    "batches = chunk_list(sample, 100)\n",
    "# 3. 드라이버 설정 및 실행\n",
    "options = webdriver.ChromeOptions()\n",
    "options.add_argument(\"--start-maximized\")\n",
    "options.add_experimental_option(\"detach\", True)\n",
    "options.add_argument(\"--disable-blink-features=AutomationControlled\")\n",
    "driver = webdriver.Chrome(options=options)\n",
    "driver.get(\"https://keywordsound.com/service/keyword-analysis-bulk\")"
   ]
  },
  {
   "cell_type": "code",
   "execution_count": null,
   "id": "d55f7fb7",
   "metadata": {},
   "outputs": [],
   "source": [
    "# input(\":오른쪽을_가리키는_손_모양: 로그인 후 Enter 키를 누르세요...\")\n",
    "# 4. 크롤링\n",
    "results = []\n",
    "for idx, group in enumerate(batches):\n",
    "    print(f\"\\n:돋보기: :앞쪽_화살표: {idx+1}번째 그룹 ({len(group)}개 키워드) 조회 중...\")\n",
    "    textarea = WebDriverWait(driver, 10).until(\n",
    "        EC.presence_of_element_located((By.XPATH, '//*[@id=\"inputKeywordsBulk\"]'))\n",
    "    )\n",
    "    driver.execute_script(\"arguments[0].click();\", textarea)\n",
    "    textarea.send_keys(Keys.CONTROL, 'a')\n",
    "    textarea.send_keys(Keys.DELETE)\n",
    "    time.sleep(1.5)\n",
    "    textarea.send_keys('\\n'.join(group))\n",
    "    time.sleep(1.5)\n",
    "    # 조회 버튼 클릭\n",
    "    try:\n",
    "        button = WebDriverWait(driver, 5).until(\n",
    "            EC.element_to_be_clickable((By.XPATH, '//*[@id=\"btnKeywordAnalysisBulk\"]'))\n",
    "        )\n",
    "        driver.execute_script(\"arguments[0].click();\", button)\n",
    "    except Exception as e:\n",
    "        print(f\":x: 조회 클릭 실패: {type(e).__name__} / {str(e)}\")\n",
    "    # 결과 로딩 대기\n",
    "    WebDriverWait(driver, 30).until(EC.presence_of_all_elements_located((By.XPATH, \"//tbody/tr\")))\n",
    "    time.sleep(2)\n",
    "    # 결과 수집\n",
    "    row_count = len(driver.find_elements(By.XPATH, \"//tbody/tr\"))\n",
    "    for i in range(row_count):\n",
    "        try:\n",
    "            row = driver.find_element(By.XPATH, f\"//tbody/tr[{i+1}]\")\n",
    "            tds = row.find_elements(By.TAG_NAME, \"td\")\n",
    "            if len(tds) >= 5:\n",
    "                keyword_text = tds[1].text.strip()\n",
    "                volume_text = tds[4].text.strip()\n",
    "                results.append({\"숙소\": keyword_text, \"월간 검색량(전체)\": volume_text})\n",
    "                print(f\"{len(results):>4} :앞쪽_화살표: {keyword_text}: {volume_text}\")\n",
    "        except:\n",
    "            continue\n",
    "    # 삭제 체크박스 클릭 후 삭제 버튼 클릭\n",
    "    try:\n",
    "        checkbox = WebDriverWait(driver, 5).until(\n",
    "            EC.element_to_be_clickable((By.XPATH, '//*[@id=\"tableAnalysisBulk_wrapper\"]/div[2]/div/div[1]/div/table/thead/tr[1]/th[1]/label/input'))\n",
    "        )\n",
    "        driver.execute_script(\"arguments[0].click();\", checkbox)\n",
    "        time.sleep(1)\n",
    "        delete_btn = WebDriverWait(driver, 5).until(\n",
    "            EC.element_to_be_clickable((By.XPATH, '//*[@id=\"tableAnalysisBulk_wrapper\"]/div[1]/div[2]/div/button[1]'))\n",
    "        )\n",
    "        driver.execute_script(\"arguments[0].scrollIntoView(true);\", delete_btn)\n",
    "        driver.execute_script(\"arguments[0].click();\", delete_btn)\n",
    "        time.sleep(1)\n",
    "    except Exception as e:\n",
    "        print(f\":경고: 삭제 실패: {type(e).__name__} / {str(e)}\")\n",
    "    time.sleep(4)\n",
    "# 5. 결과 저장\n",
    "df_result_re = pd.DataFrame(results)\n",
    "\n",
    "print(f\"\\n:흰색_확인_표시: 전체 키워드 수집 완료: {len(df_result_re)}건\")\n",
    "print(df_result_re.head())\n",
    "# 6. 누락 키워드 검출\n",
    "crawled_keywords = df_result_re['숙소'].dropna().unique()\n",
    "missing = pd.Series(sample)[~pd.Series(sample).isin(crawled_keywords)]\n",
    "print(f\"\\n:x: 누락 키워드 수: {len(missing)}개\")\n",
    "if not missing.empty:\n",
    "    print(\"예시 :앞쪽_화살표:\", missing.head(10).tolist())\n",
    "# 7. 종료\n",
    "driver.quit()# input(\":오른쪽을_가리키는_손_모양: 로그인 후 Enter 키를 누르세요...\")\n"
   ]
  },
  {
   "cell_type": "code",
   "execution_count": null,
   "id": "96d52066",
   "metadata": {},
   "outputs": [],
   "source": [
    "df_result_re[df_result_re['월간 검색량(전체)']=='12,970']"
   ]
  },
  {
   "cell_type": "code",
   "execution_count": null,
   "id": "84498305",
   "metadata": {},
   "outputs": [],
   "source": [
    "searchdf_re[searchdf_re['LDGS_NM']=='제부도궁평항씨사이드']"
   ]
  },
  {
   "cell_type": "code",
   "execution_count": null,
   "id": "bfadb788",
   "metadata": {},
   "outputs": [],
   "source": [
    "df_result_re.info()"
   ]
  },
  {
   "cell_type": "markdown",
   "id": "df9c8774",
   "metadata": {},
   "source": [
    "### 매핑코드"
   ]
  },
  {
   "cell_type": "code",
   "execution_count": null,
   "id": "17f32d57",
   "metadata": {},
   "outputs": [],
   "source": [
    "\n",
    "keyword= df_result_re.set_index('숙소')['월간 검색량(전체)'].to_dict()\n",
    "\n",
    "searchdf_re['숙소 검색량(전체)'] = searchdf_re['LDGS_NM'].map(keyword)"
   ]
  },
  {
   "cell_type": "code",
   "execution_count": null,
   "id": "d2f95bc1",
   "metadata": {},
   "outputs": [],
   "source": [
    "searchdf_re"
   ]
  },
  {
   "cell_type": "markdown",
   "id": "03518692",
   "metadata": {},
   "source": [
    "- 재크롤링한 결과df : df_result_re\n",
    "- 메인 프레임: df_merged\n",
    "\n",
    "### 재크롤링 결과 :  누락값은 거의 10개  미만 제외한 나머지 값은 20임 fiilna로 누락값 대체"
   ]
  },
  {
   "cell_type": "code",
   "execution_count": null,
   "id": "bd49aa73",
   "metadata": {},
   "outputs": [],
   "source": [
    "df_merged['숙소 검색량(전체)'] = df_merged['숙소 검색량(전체)'].fillna(20)"
   ]
  },
  {
   "cell_type": "code",
   "execution_count": null,
   "id": "03484edc",
   "metadata": {},
   "outputs": [],
   "source": [
    "df_merged['숙소 검색량(전체)'].value_counts()"
   ]
  },
  {
   "cell_type": "markdown",
   "id": "6aa30e80",
   "metadata": {},
   "source": [
    "- 여유시간 대 수기로 조정"
   ]
  },
  {
   "cell_type": "markdown",
   "id": "9ad9f529",
   "metadata": {},
   "source": [
    "# 시도명 정제"
   ]
  },
  {
   "cell_type": "code",
   "execution_count": null,
   "id": "2d615c9b",
   "metadata": {},
   "outputs": [],
   "source": [
    "df_merged[df_merged['LDGS_ROAD_NM_ADDR'].str.contains('대전광역시')]\n"
   ]
  },
  {
   "cell_type": "code",
   "execution_count": null,
   "id": "854fd7d5",
   "metadata": {},
   "outputs": [],
   "source": [
    "df_merged_시도 = df_merged.copy()"
   ]
  },
  {
   "cell_type": "code",
   "execution_count": null,
   "id": "b8aeabbe",
   "metadata": {},
   "outputs": [],
   "source": [
    "df_merged_시도[['상위 시도', '하위 시구']] = df_merged_시도['LDGS_ROAD_NM_ADDR'].str.split().str[:2].apply(pd.Series)"
   ]
  },
  {
   "cell_type": "code",
   "execution_count": null,
   "id": "e3506e41",
   "metadata": {},
   "outputs": [],
   "source": [
    "# 상위 시도 정제 매핑\n",
    "sido_clean_map = {\n",
    "    '서울특별시': '서울', '서울시': '서울', '서울특별시중구': '서울',\n",
    "    '부산광역시': '부산', '부산시': '부산',\n",
    "    '대구광역시': '대구', '대구시': '대구',\n",
    "    '인천광역시': '인천', '인천시': '인천',\n",
    "    '광주광역시': '광주',\n",
    "    '대전광역시': '대전', '대전시': '대전',\n",
    "    '울산광역시': '울산', '울산시': '울산',\n",
    "    '세종특별자치시': '세종',\n",
    "    '경기도': '경기', '가평군': '경기',\n",
    "    '강원도': '강원', '강원특별자치도': '강원', '강원도강릉시': '강원', '양양군': '강원', '홍천군': '강원',\n",
    "    '충청북도': '충북', '충북': '충북',\n",
    "    '충청남도': '충남',\n",
    "    '전라북도': '전북', '전북특별자치도': '전북', '전주시': '전북',\n",
    "    '전라남도': '전남', '담양군': '전남',\n",
    "    '경상북도': '경북', '경주시': '경북',\n",
    "    '경상남도': '경남', '밀양시': '경남',\n",
    "    '제주특별자치도': '제주', '제주시': '제주', '서귀포시': '제주',\n",
    "    '대한민국': '제주'  # 이상치로 제거하거나 NaN 처리\n",
    "}"
   ]
  },
  {
   "cell_type": "code",
   "execution_count": null,
   "id": "e1e6237c",
   "metadata": {},
   "outputs": [],
   "source": [
    "df_merged_시도['상위 시도'] = df_merged_시도['상위 시도'].map(lambda x: sido_clean_map.get(x, x))"
   ]
  },
  {
   "cell_type": "markdown",
   "id": "7a8cc964",
   "metadata": {},
   "source": [
    "- 대한민국이라고 되어 있는 행은 제주도인것을 파악하고 수기로 정제"
   ]
  },
  {
   "cell_type": "code",
   "execution_count": null,
   "id": "b2f436dd",
   "metadata": {},
   "outputs": [],
   "source": [
    "df_merged_시도['상위 시도'].value_counts()"
   ]
  },
  {
   "cell_type": "markdown",
   "id": "0b7cb06e",
   "metadata": {},
   "source": [
    "### 강화군 확인 인천으로 정제"
   ]
  },
  {
   "cell_type": "code",
   "execution_count": null,
   "id": "94a3ffa2",
   "metadata": {},
   "outputs": [],
   "source": [
    "df_merged_시도[df_merged_시도['상위 시도']=='강화군']"
   ]
  },
  {
   "cell_type": "code",
   "execution_count": null,
   "id": "041334bd",
   "metadata": {},
   "outputs": [],
   "source": [
    "df_merged_시도.loc[25030,['상위 시도']]='인천'"
   ]
  },
  {
   "cell_type": "markdown",
   "id": "6f3c1b48",
   "metadata": {},
   "source": [
    "## 상위 시도 기준으로 지역명 관심도 매핑"
   ]
  },
  {
   "cell_type": "code",
   "execution_count": null,
   "id": "de4de150",
   "metadata": {},
   "outputs": [],
   "source": [
    "관심도 = pd.read_csv('지역별_관심도_최종 (1).csv')"
   ]
  },
  {
   "cell_type": "code",
   "execution_count": null,
   "id": "3ab2fa7a",
   "metadata": {},
   "outputs": [],
   "source": [
    "관심도"
   ]
  },
  {
   "cell_type": "markdown",
   "id": "42980f4f",
   "metadata": {},
   "source": [
    "### 매핑"
   ]
  },
  {
   "cell_type": "code",
   "execution_count": null,
   "id": "196edfc0",
   "metadata": {},
   "outputs": [],
   "source": [
    "\n",
    "keyword= 관심도.set_index('지역')['지역별_관심도'].to_dict()\n",
    "\n",
    "df_merged_시도['지역별_관심도'] = df_merged_시도['상위 시도'].map(keyword)"
   ]
  },
  {
   "cell_type": "code",
   "execution_count": null,
   "id": "f03b6b66",
   "metadata": {},
   "outputs": [],
   "source": [
    "df_merged_시도['상위 시도'].value_counts()"
   ]
  },
  {
   "cell_type": "code",
   "execution_count": null,
   "id": "60ade486",
   "metadata": {},
   "outputs": [],
   "source": [
    "df_merged_시도.info()"
   ]
  },
  {
   "cell_type": "markdown",
   "id": "58959fb2",
   "metadata": {},
   "source": [
    "### 누락확인"
   ]
  },
  {
   "cell_type": "code",
   "execution_count": null,
   "id": "87681251",
   "metadata": {},
   "outputs": [],
   "source": [
    "df_merged_시도[df_merged_시도['상위 시도'].isna()]"
   ]
  },
  {
   "cell_type": "code",
   "execution_count": null,
   "id": "31dcfbda",
   "metadata": {},
   "outputs": [],
   "source": [
    "df = df_merged_시도.copy()"
   ]
  },
  {
   "cell_type": "markdown",
   "id": "c11a66af",
   "metadata": {},
   "source": [
    "# 하위시구 정제"
   ]
  },
  {
   "cell_type": "code",
   "execution_count": null,
   "id": "1a047210",
   "metadata": {},
   "outputs": [],
   "source": [
    "print(df['하위 시구'].value_counts(dropna=False))"
   ]
  },
  {
   "cell_type": "code",
   "execution_count": null,
   "id": "85b1ce72",
   "metadata": {},
   "outputs": [],
   "source": [
    "df[df['하위 시구'].isna()]"
   ]
  },
  {
   "cell_type": "code",
   "execution_count": null,
   "id": "2f4f3865",
   "metadata": {},
   "outputs": [],
   "source": [
    "df.loc[26440,['하위 시구']]='제주시'"
   ]
  },
  {
   "cell_type": "code",
   "execution_count": null,
   "id": "d73c83ac",
   "metadata": {},
   "outputs": [],
   "source": [
    "df.to_csv('0729_메인프레임v2.csv', index=False)"
   ]
  },
  {
   "cell_type": "code",
   "execution_count": null,
   "id": "46bde4b9",
   "metadata": {},
   "outputs": [],
   "source": [
    "import pandas as pd\n",
    "df = pd.read_csv('0729_메인프레임v2.csv')\n",
    "df"
   ]
  },
  {
   "cell_type": "markdown",
   "id": "0325151a",
   "metadata": {},
   "source": [
    "# 유튜브 평균 조회수 매핑"
   ]
  },
  {
   "cell_type": "code",
   "execution_count": null,
   "id": "d07c24f7",
   "metadata": {},
   "outputs": [],
   "source": [
    "ytdf = pd.read_csv('지역별_유튜브_평균조회수.csv')\n",
    "ytdf"
   ]
  },
  {
   "cell_type": "code",
   "execution_count": null,
   "id": "a97a0151",
   "metadata": {},
   "outputs": [],
   "source": [
    "\n",
    "keyword= ytdf.set_index('지역')['유튜브_상위20_평균조회수'].to_dict()\n",
    "\n",
    "df['유튜브_상위20_평균조회수'] = df['상위 시도'].map(keyword)\n",
    "df.to_csv('0731_메인프레임.v3.csv', index=False)"
   ]
  },
  {
   "cell_type": "markdown",
   "id": "fa0d938a",
   "metadata": {},
   "source": [
    "# 가장 오래된 리뷰 날짜 매핑 "
   ]
  },
  {
   "cell_type": "code",
   "execution_count": null,
   "id": "5af40369",
   "metadata": {},
   "outputs": [],
   "source": [
    "import pandas as pd\n",
    "df1 = pd.read_excel('yanolja_oldest_reviews_1.xlsx')\n",
    "df2 = pd.read_excel('yanolja_oldest_reviews_2.xlsx')\n",
    "df3 = pd.read_excel('yanolja_oldest_reviews_3.xlsx')\n",
    "df4 = pd.read_excel('yanolja_oldest_reviews_4.xlsx')\n",
    "df5 = pd.read_excel('yanolja_oldest_reviews_5.xlsx')\n",
    "df6 = pd.read_excel('7002~12999yanolja_oldest_reviews_6.xlsx')\n",
    "df7 = pd.read_excel('초반1.xlsx')\n",
    "df8 = pd.read_excel('초반2.xlsx')\n",
    "df9 = pd.read_excel('초반3.xlsx')\n",
    "df10 = pd.read_excel('초반4.xlsx')\n",
    "df11 = pd.read_excel('초반5.xlsx')\n",
    "df12 = pd.read_excel('초반6.xlsx')\n",
    "df13 = pd.read_excel('후반1.xlsx')\n",
    "df14 = pd.read_excel('후반2.xlsx')\n",
    "df15 = pd.read_excel('후반3.xlsx')\n",
    "df16 = pd.read_excel('후반4.xlsx')\n",
    "df17 = pd.read_excel('후반5.xlsx')\n",
    "df18 = pd.read_excel('후반6.xlsx')\n",
    "df19 = pd.read_excel('yanolja_oldest_reviews_7.xlsx')\n",
    "df20 = pd.read_excel('yanolja_oldest_reviews_8.xlsx')\n",
    "df21 = pd.read_excel('yanolja_oldest_reviews_9.xlsx')\n",
    "df22 = pd.read_excel('yanolja_oldest_reviews_10.xlsx')\n",
    "df23 = pd.read_excel('yanolja_oldest_reviews_11.xlsx')\n",
    "df24 = pd.read_excel('yanolja_oldest_reviews_12.xlsx')\n",
    "df25 = pd.read_excel('yanolja_oldest_reviews_13.xlsx')\n",
    "df26 = pd.read_excel('yanolja_oldest_reviews_14.xlsx')"
   ]
  },
  {
   "cell_type": "markdown",
   "id": "65610bdc",
   "metadata": {},
   "source": [
    "- 추출된 데이터 프레임 병합"
   ]
  },
  {
   "cell_type": "code",
   "execution_count": null,
   "id": "0147070c",
   "metadata": {},
   "outputs": [],
   "source": [
    "\n",
    "df = pd.concat([df1, df2,df3,df4,df5,df6,df7,df8,df9,df10,df11,df12,df13,df14,df15,df16,df17,df18,df19,df20,df21,df22,df23,df24,df25,df26], axis=0, ignore_index=True)"
   ]
  },
  {
   "cell_type": "code",
   "execution_count": null,
   "id": "6978c483",
   "metadata": {},
   "outputs": [],
   "source": [
    "df.info()"
   ]
  },
  {
   "cell_type": "code",
   "execution_count": null,
   "id": "0f4450a6",
   "metadata": {},
   "outputs": [],
   "source": [
    "df_main = pd.read_csv('0731_메인프레임.v3.csv')"
   ]
  },
  {
   "cell_type": "code",
   "execution_count": null,
   "id": "60cf971f",
   "metadata": {},
   "outputs": [],
   "source": [
    "df_main['LDGS_CD'] = df_main['LDGS_CD'].astype(int)"
   ]
  },
  {
   "cell_type": "code",
   "execution_count": null,
   "id": "fe0ff966",
   "metadata": {},
   "outputs": [],
   "source": [
    "\n",
    "date= df.set_index('LDGS_CD')['oldest_review_date'].to_dict()\n",
    "\n",
    "df_main['가장 오래된 리뷰'] = df_main['LDGS_CD'].map(date)\n",
    "\n",
    "error = df.set_index('LDGS_CD')['error'].to_dict()\n",
    "df_main['error'] = df_main['LDGS_CD'].map(error)"
   ]
  },
  {
   "cell_type": "code",
   "execution_count": null,
   "id": "b8f62b04",
   "metadata": {},
   "outputs": [],
   "source": [
    "df_main.info()"
   ]
  },
  {
   "cell_type": "code",
   "execution_count": null,
   "id": "f17f61e2",
   "metadata": {},
   "outputs": [],
   "source": [
    "df_main.to_csv('0805_메인프레임.v4.csv',index=False)"
   ]
  },
  {
   "cell_type": "code",
   "execution_count": null,
   "id": "5642d357",
   "metadata": {},
   "outputs": [],
   "source": [
    "df_nu = df_main[df_main['가장 오래된 리뷰'].isnull() & df['error'].isnull()]\n",
    "df_nu.info()"
   ]
  },
  {
   "cell_type": "code",
   "execution_count": null,
   "id": "a62ebc55",
   "metadata": {},
   "outputs": [],
   "source": [
    "import pandas as pd\n",
    "\n",
    "# CSV 파일을 불러와 df_main 데이터프레임으로 저장합니다.\n",
    "df_main = pd.read_csv('0805_메인프레임.v4.csv')\n",
    "\n",
    "# '가장 오래된 리뷰'와 'error' 열에 모두 누락된 값이 있는 행을 찾아 새로운 데이터프레임(df_nu)에 저장합니다.\n",
    "# .isnull() 메서드는 누락된 값(NaN)이 있으면 True를 반환하며, '&' 연산자는 두 조건이 모두 True일 때만 해당 행을 선택합니다.\n",
    "df_nu = df_main[df_main['가장 오래된 리뷰'].isnull() & df_main['error'].isnull()]\n",
    "\n",
    "# df_nu 데이터프레임의 정보를 출력합니다.\n",
    "df_nu"
   ]
  },
  {
   "cell_type": "code",
   "execution_count": null,
   "id": "e5c8b954",
   "metadata": {},
   "outputs": [],
   "source": [
    "df_ = pd.read_excel('last_yanolja_oldest_reviews_1.xlsx')\n",
    "df_1 = pd.read_excel('last_yanolja_oldest_reviews_2.xlsx')\n",
    "df_2 = pd.read_excel('lastddd_yanolja_oldest_reviews_3.xlsx')"
   ]
  },
  {
   "cell_type": "code",
   "execution_count": null,
   "id": "17e45878",
   "metadata": {},
   "outputs": [],
   "source": [
    "dflast = pd.concat([df_,df_1,df_2], axis=0, ignore_index=True)"
   ]
  },
  {
   "cell_type": "code",
   "execution_count": null,
   "id": "05408011",
   "metadata": {},
   "outputs": [],
   "source": [
    "dflast.to_csv('lastcrolling.csv',index=False)"
   ]
  },
  {
   "cell_type": "code",
   "execution_count": null,
   "id": "5e21945e",
   "metadata": {},
   "outputs": [],
   "source": [
    "dflast"
   ]
  },
  {
   "cell_type": "code",
   "execution_count": null,
   "id": "037381aa",
   "metadata": {},
   "outputs": [],
   "source": [
    "import pandas as pd\n",
    "\n",
    "# 파일 불러오기\n",
    "main_df = pd.read_csv(\"0805_메인프레임.v4.csv\")\n",
    "last_df = pd.read_csv(\"lastcrolling.csv\")\n",
    "\n"
   ]
  },
  {
   "cell_type": "code",
   "execution_count": null,
   "id": "8d76fb34",
   "metadata": {},
   "outputs": [],
   "source": [
    "# 'LDGS_CD' 기준으로 left join 수행\n",
    "merged_df = main_df.merge(last_df, on='LDGS_CD', how='left', suffixes=('', '_new'))\n",
    "\n",
    "# '가장 오래된 리뷰', 'error' 값이 누락된 경우에만 새로운 값으로 채움\n",
    "merged_df['가장 오래된 리뷰'] = merged_df['가장 오래된 리뷰'].fillna(merged_df['oldest_review_date'])\n",
    "merged_df['error'] = merged_df['error'].fillna(merged_df['error_new'])\n",
    "\n",
    "# 임시로 생성된 열 제거\n",
    "merged_df = merged_df.drop(columns=['oldest_review_date', 'error_new'])\n",
    "\n",
    "merged_df.to_csv('0805_메인프레임v5.csv',index=False)"
   ]
  },
  {
   "cell_type": "code",
   "execution_count": null,
   "id": "ad83b0c4",
   "metadata": {},
   "outputs": [],
   "source": [
    "merged_df[merged_df['가장 오래된 리뷰'].isna()]"
   ]
  },
  {
   "cell_type": "code",
   "execution_count": null,
   "id": "130023ff",
   "metadata": {},
   "outputs": [],
   "source": [
    "import pandas as pd\n",
    "djf = pd.read_csv('0805_메인프레임v5.csv')\n",
    "\n",
    "djf.info()"
   ]
  },
  {
   "cell_type": "code",
   "execution_count": null,
   "id": "89cf7e03",
   "metadata": {},
   "outputs": [],
   "source": [
    "import pandas as pd\n",
    "df = pd.read_excel('re_oldest_reviews_1.xlsx')\n",
    "df1 = pd.read_excel('re_oldest_reviews_2.xlsx')\n",
    "df2 = pd.read_excel('re_oldest_reviews_3.xlsx')\n",
    "df3 = pd.read_excel('다시1.xlsx')\n",
    "df4 = pd.read_excel('다시2.xlsx')\n",
    "df5 = pd.read_excel('다시3.xlsx')"
   ]
  },
  {
   "cell_type": "code",
   "execution_count": null,
   "id": "784baa32",
   "metadata": {},
   "outputs": [],
   "source": [
    "dflast = pd.concat([df,df1,df2,df3,df4,df5], axis=0, ignore_index=True)"
   ]
  },
  {
   "cell_type": "code",
   "execution_count": null,
   "id": "7fa6f04b",
   "metadata": {},
   "outputs": [],
   "source": [
    "dflast.to_csv('5000review_0807.csv',index=False)"
   ]
  },
  {
   "cell_type": "code",
   "execution_count": null,
   "id": "348092e6",
   "metadata": {},
   "outputs": [],
   "source": [
    "# 새로 업로드된 파일 불러오기 (5000개 업데이트용)\n",
    "update_df = pd.read_csv(\"5000review_0807.csv\")\n",
    "\n",
    "# 컬럼 확인\n",
    "update_df.columns\n"
   ]
  },
  {
   "cell_type": "code",
   "execution_count": null,
   "id": "2c4eda88",
   "metadata": {},
   "outputs": [],
   "source": [
    "import pandas as pd\n",
    "\n",
    "# 파일 경로\n",
    "main_path = '0805_메인프레임v5.csv'\n",
    "review_path = '5000review_0807.csv'\n",
    "\n",
    "# CSV 파일 읽기\n",
    "df_main = pd.read_csv(main_path)\n",
    "df_review = pd.read_csv(review_path)\n",
    "\n",
    "\n",
    "# 필요한 열만 남기고 정제 (LDGS_CD, 가장 오래된 리뷰)\n",
    "df_review_filtered = df_review[['LDGS_CD', 'oldest_review_date']]\n",
    "\n",
    "# 'LDGS_CD' 기준으로 merge (left join)\n",
    "df_merged = df_main.merge(df_review_filtered, on='LDGS_CD', how='left', suffixes=('', '_추가'))\n",
    "\n",
    "# 기존 '가장 오래된 리뷰'가 누락된 경우에만 새 값으로 채우기\n",
    "df_merged['가장 오래된 리뷰'] = df_merged['가장 오래된 리뷰'].combine_first(df_merged['oldest_review_date_추가'])\n",
    "\n",
    "# 보조 열 삭제\n",
    "df_merged.drop(columns=['가장 오래된 리뷰_추가'], inplace=True)"
   ]
  },
  {
   "cell_type": "code",
   "execution_count": null,
   "id": "3a2372f2",
   "metadata": {},
   "outputs": [],
   "source": [
    "import pandas as pd\n",
    "\n",
    "# 파일 경로\n",
    "main_path = '0805_메인프레임v5.csv'\n",
    "review_path = '5000review_0807.csv'\n",
    "\n",
    "# CSV 파일 읽기\n",
    "df_main = pd.read_csv(main_path)\n",
    "df_review = pd.read_csv(review_path)\n",
    "\n",
    "# 필요한 열만 남기고 정제 (LDGS_CD, oldest_review_date)\n",
    "df_review_filtered = df_review[['LDGS_CD', 'oldest_review_date']]\n",
    "\n",
    "# 'LDGS_CD' 기준으로 merge (left join)\n",
    "# suffixes를 사용하면 이름이 중복되는 열에만 적용되므로,\n",
    "# 현재 코드에서는 'oldest_review_date_추가'가 생성되지 않습니다.\n",
    "df_merged = df_main.merge(df_review_filtered, on='LDGS_CD', how='left')\n",
    "\n",
    "# 기존 '가장 오래된 리뷰'가 누락된 경우에만 새 값으로 채우기\n",
    "df_merged['가장 오래된 리뷰'] = df_merged['가장 오래된 리뷰'].combine_first(df_merged['oldest_review_date'])\n",
    "\n",
    "# 보조 열 삭제\n",
    "# merge 후 생성된 열의 이름은 'oldest_review_date'이므로, 해당 열을 삭제해야 합니다.\n",
    "df_merged.drop(columns=['oldest_review_date'], inplace=True)"
   ]
  },
  {
   "cell_type": "code",
   "execution_count": null,
   "id": "ae2f5e4d",
   "metadata": {},
   "outputs": [],
   "source": [
    "df_merged.info()"
   ]
  },
  {
   "cell_type": "code",
   "execution_count": null,
   "id": "8e636f0a",
   "metadata": {},
   "outputs": [],
   "source": [
    "import pandas as pd\n",
    "\n",
    "# 파일 경로\n",
    "main_path = '0805_메인프레임v5.csv'\n",
    "review_path = '5000review_0807.csv'\n",
    "\n",
    "# CSV 파일 읽기\n",
    "df_main = pd.read_csv(main_path)\n",
    "df_review = pd.read_csv(review_path)\n",
    "\n",
    "# 필요한 열만 남기고 정제 (LDGS_CD, oldest_review_date)\n",
    "df_review_filtered = df_review[['LDGS_CD', 'oldest_review_date']]\n",
    "\n",
    "# 'LDGS_CD' 기준으로 merge (left join)\n",
    "# 기존 '가장 오래된 리뷰'와 충돌하는 열이 없으므로 suffixes를 지정할 필요가 없습니다.\n",
    "# 하지만, suffixes를 사용한다면 병합된 열 이름은 'oldest_review_date_추가'가 됩니다.\n",
    "df_merged = df_main.merge(df_review_filtered, on='LDGS_CD', how='left', suffixes=('', '_추가'))\n",
    "\n",
    "# 기존 '가장 오래된 리뷰'가 누락된 경우에만 새 값으로 채우기\n",
    "# combine_first() 메서드는 첫 번째 시리즈의 NaN 값을 두 번째 시리즈의 값으로 채웁니다.\n",
    "df_merged['가장 오래된 리뷰'] = df_merged['가장 오래된 리뷰'].combine_first(df_merged['oldest_review_date_추가'])\n",
    "\n",
    "# 보조 열 삭제\n",
    "# merge로 생성된 임시 열의 이름은 'oldest_review_date_추가'입니다.\n",
    "df_merged.drop(columns=['oldest_review_date_추가'], inplace=True)"
   ]
  },
  {
   "cell_type": "code",
   "execution_count": null,
   "id": "d38c3dd5",
   "metadata": {},
   "outputs": [],
   "source": [
    "# 'LDGS_CD' 기준으로 left join 수행\n",
    "merged_df = main_df.merge(dflast, on='LDGS_CD', how='left', suffixes=('', '_new'))\n",
    "\n",
    "# '가장 오래된 리뷰', 'error' 값이 누락된 경우에만 새로운 값으로 채움\n",
    "merged_df['가장 오래된 리뷰'] = merged_df['가장 오래된 리뷰'].fillna(merged_df['oldest_review_date'])\n",
    "merged_df['error'] = merged_df['error'].fillna(merged_df['error_new'])\n",
    "\n",
    "# 임시로 생성된 열 제거\n",
    "merged_df = merged_df.drop(columns=['oldest_review_date', 'error_new'])\n",
    "\n",
    "merged_df.to_csv('0807_메인프레임v6.csv',index=False)"
   ]
  },
  {
   "cell_type": "code",
   "execution_count": null,
   "id": "954cac4f",
   "metadata": {},
   "outputs": [],
   "source": [
    "import pandas as pd\n",
    "\n",
    "# 1. 파일 불러오기\n",
    "# 기존 메인 데이터프레임 (27,008개 행)을 불러옵니다.\n",
    "main_df = pd.read_csv(\"0805_메인프레임v5.csv\")\n",
    "# 새로 수집한 5,000개 리뷰 정보가 담긴 데이터프레임을 불러옵니다.\n",
    "dflast = pd.read_csv('5000review_0807.csv')\n",
    "\n",
    "# 2. 'LDGS_CD' 기준으로 데이터 병합\n",
    "# left join을 사용하여 main_df의 모든 행을 유지하고, dflast의 일치하는 행 정보를 병합합니다.\n",
    "# 이 단계에서는 행의 개수가 main_df와 동일하게 27,008개로 유지됩니다.\n",
    "merged_df = main_df.merge(dflast, on='LDGS_CD', how='left', suffixes=('', '_new'))\n",
    "\n",
    "# 3. 누락된 값(NaN) 채우기\n",
    "# 기존 '가장 오래된 리뷰' 열에 값이 없는 경우, 새로 병합된 'oldest_review_date' 열의 값으로 채웁니다.\n",
    "# 'error' 열도 같은 방식으로 업데이트합니다.\n",
    "merged_df['가장 오래된 리뷰'] = merged_df['가장 오래된 리뷰'].fillna(merged_df['oldest_review_date'])\n",
    "merged_df['error'] = merged_df['error'].fillna(merged_df['error_new'])\n",
    "\n",
    "# 4. 불필요한 임시 열 삭제\n",
    "# 병합 과정에서 생성된 임시 열을 삭제하여 최종 데이터프레임을 정리합니다.\n",
    "merged_df = merged_df.drop(columns=['oldest_review_date', 'error_new'])\n",
    "\n",
    "# 5. 최종 데이터프레임 저장\n",
    "# 업데이트가 완료된 데이터프레임을 '0807_메인프레임v6.csv' 파일로 저장합니다.\n",
    "#merged_df.to_csv('0807_메인프레임v6.csv', index=False)\n",
    "\n",
    "# 최종 결과 확인 (선택 사항)\n",
    "print(merged_df.info())"
   ]
  },
  {
   "cell_type": "code",
   "execution_count": null,
   "id": "c37f822e",
   "metadata": {},
   "outputs": [],
   "source": [
    "merged_df.info()"
   ]
  },
  {
   "cell_type": "code",
   "execution_count": null,
   "id": "c1609906",
   "metadata": {},
   "outputs": [],
   "source": [
    "import pandas as pd\n",
    "df0808 = pd.read_csv('0808_메인프레임v8.csv')\n",
    "df0808.info()"
   ]
  },
  {
   "cell_type": "code",
   "execution_count": null,
   "id": "b9df18db",
   "metadata": {},
   "outputs": [],
   "source": [
    "df0807 = pd.read_csv('0808_메인프레임v7.csv')\n",
    "df0807.info()"
   ]
  },
  {
   "cell_type": "code",
   "execution_count": null,
   "id": "7439456c",
   "metadata": {},
   "outputs": [],
   "source": [
    "df0807['상위 시도'].value_counts()"
   ]
  },
  {
   "cell_type": "code",
   "execution_count": null,
   "id": "b9c52e5a",
   "metadata": {},
   "outputs": [],
   "source": [
    "import pandas as pd\n",
    "df_ver = pd.read_csv('vertex_image_analysis_results.csv', encoding='utf-8-sig')\n",
    "df_score = pd.read_csv('야놀자_감성예측완료.csv', encoding='utf-8-sig')\n",
    "df_main = pd.read_csv('0814_메인프레임v13.csv')\n"
   ]
  },
  {
   "cell_type": "code",
   "execution_count": null,
   "id": "e5a16c5c",
   "metadata": {},
   "outputs": [],
   "source": [
    "df_main.info()"
   ]
  },
  {
   "cell_type": "code",
   "execution_count": null,
   "id": "ca17f48a",
   "metadata": {},
   "outputs": [],
   "source": [
    "df_score = df_score.drop(['동반유형','리뷰내용','작성일'],axis=1)"
   ]
  },
  {
   "cell_type": "code",
   "execution_count": null,
   "id": "9ccafa9c",
   "metadata": {},
   "outputs": [],
   "source": [
    "df_score = df_score.drop('별점',axis=1)"
   ]
  },
  {
   "cell_type": "code",
   "execution_count": null,
   "id": "d7b16700",
   "metadata": {},
   "outputs": [],
   "source": [
    "df_score.to_csv('추천시스템용_감성분석.csv', index=False)"
   ]
  },
  {
   "cell_type": "code",
   "execution_count": null,
   "id": "3158d8ce",
   "metadata": {},
   "outputs": [],
   "source": [
    "df_score"
   ]
  },
  {
   "cell_type": "code",
   "execution_count": null,
   "id": "833805e8",
   "metadata": {},
   "outputs": [],
   "source": [
    "import pandas as pd\n",
    "\n",
    "# 감성분석 데이터프레임 로드\n",
    "df_sentiment = pd.read_csv('추천시스템용_감성분석.csv')\n",
    "\n",
    "# 이미지 분석 결과 데이터프레임 로드\n",
    "df_image_analysis = pd.read_csv('vertex_image_analysis_results.csv')\n",
    "\n",
    "# 숙소ID와 file_id 컬럼 확인\n",
    "print(df_sentiment.columns)\n",
    "print(df_image_analysis.columns)\n",
    "filtered_sentiment = df_sentiment[df_sentiment['숙소ID'].isin(df_image_analysis['file_id'])]\n",
    "filtered_sentiment.info()"
   ]
  },
  {
   "cell_type": "code",
   "execution_count": null,
   "id": "7cd33618",
   "metadata": {},
   "outputs": [],
   "source": [
    "filtered_sentiment.to_csv('추천 시스템용.csv', index=False)"
   ]
  },
  {
   "cell_type": "code",
   "execution_count": null,
   "id": "1951d5e6",
   "metadata": {},
   "outputs": [],
   "source": [
    "df_ver[df_ver['file_id']==23197]"
   ]
  },
  {
   "cell_type": "markdown",
   "id": "ce087280",
   "metadata": {},
   "source": [
    "# 클러스터링용 데이터프레임 정제"
   ]
  },
  {
   "cell_type": "code",
   "execution_count": null,
   "id": "f140c9a5",
   "metadata": {},
   "outputs": [],
   "source": [
    "import pandas as pd\n",
    "df_main = pd.read_csv('0822_메인프레임v13.csv')\n",
    "df_score = pd.read_csv('숙소별_감성별점_평균.csv')\n",
    "df_score"
   ]
  },
  {
   "cell_type": "code",
   "execution_count": null,
   "id": "dd694541",
   "metadata": {},
   "outputs": [],
   "source": [
    "df_main"
   ]
  },
  {
   "cell_type": "code",
   "execution_count": null,
   "id": "13ef7fb0",
   "metadata": {},
   "outputs": [],
   "source": [
    "\n",
    "keyword= df_score.set_index('숙소ID')['감성별점'].to_dict()\n",
    "\n",
    "df_main['감성별점_평균'] = df_main['숙소ID'].map(keyword)"
   ]
  },
  {
   "cell_type": "markdown",
   "id": "45e4a2c0",
   "metadata": {},
   "source": [
    "- 누락 확인"
   ]
  },
  {
   "cell_type": "code",
   "execution_count": null,
   "id": "ceaa2f20",
   "metadata": {},
   "outputs": [],
   "source": [
    "df_main[df_main['감성별점_평균'].isna()]"
   ]
  },
  {
   "cell_type": "code",
   "execution_count": null,
   "id": "ec709e9f",
   "metadata": {},
   "outputs": [],
   "source": [
    "df_main.to_csv('클러스터링용_프레임.csv', index=False )"
   ]
  }
 ],
 "metadata": {
  "kernelspec": {
   "display_name": "Python 3",
   "language": "python",
   "name": "python3"
  },
  "language_info": {
   "codemirror_mode": {
    "name": "ipython",
    "version": 3
   },
   "file_extension": ".py",
   "mimetype": "text/x-python",
   "name": "python",
   "nbconvert_exporter": "python",
   "pygments_lexer": "ipython3",
   "version": "3.10.1"
  }
 },
 "nbformat": 4,
 "nbformat_minor": 5
}
