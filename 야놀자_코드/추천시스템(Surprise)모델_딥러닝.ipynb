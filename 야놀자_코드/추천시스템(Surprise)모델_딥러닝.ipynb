{
  "cells": [
    {
      "cell_type": "markdown",
      "metadata": {
        "id": "WP6HOpukHIKx"
      },
      "source": [
        "\n",
        "# Surprise 협업필터링 기반 추천시스템"
      ]
    },
    {
      "cell_type": "markdown",
      "metadata": {},
      "source": [
        "## 데이터프레임 로드"
      ]
    },
    {
      "cell_type": "code",
      "execution_count": 1,
      "metadata": {
        "colab": {
          "base_uri": "https://localhost:8080/",
          "height": 423
        },
        "id": "yCaEr4eZh3kX",
        "outputId": "2db68763-5bcf-449f-9bbe-ddbd16fe637e"
      },
      "outputs": [
        {
          "data": {
            "text/html": [
              "<div>\n",
              "<style scoped>\n",
              "    .dataframe tbody tr th:only-of-type {\n",
              "        vertical-align: middle;\n",
              "    }\n",
              "\n",
              "    .dataframe tbody tr th {\n",
              "        vertical-align: top;\n",
              "    }\n",
              "\n",
              "    .dataframe thead th {\n",
              "        text-align: right;\n",
              "    }\n",
              "</style>\n",
              "<table border=\"1\" class=\"dataframe\">\n",
              "  <thead>\n",
              "    <tr style=\"text-align: right;\">\n",
              "      <th></th>\n",
              "      <th>숙소ID</th>\n",
              "      <th>color</th>\n",
              "      <th>style</th>\n",
              "      <th>view</th>\n",
              "      <th>별점</th>\n",
              "      <th>작성자</th>\n",
              "      <th>동반유형</th>\n",
              "      <th>리뷰내용</th>\n",
              "      <th>작성일</th>\n",
              "      <th>감성별점</th>\n",
              "    </tr>\n",
              "  </thead>\n",
              "  <tbody>\n",
              "    <tr>\n",
              "      <th>0</th>\n",
              "      <td>1000003240</td>\n",
              "      <td>white</td>\n",
              "      <td>minimal</td>\n",
              "      <td>ocean</td>\n",
              "      <td>1</td>\n",
              "      <td>니제*</td>\n",
              "      <td>NaN</td>\n",
              "      <td>바다 안보임, 테라스 금연, 식수 없음, 객실 청결상태 안좋음, 드라이도 사용하기 ...</td>\n",
              "      <td>2022.10.02</td>\n",
              "      <td>1</td>\n",
              "    </tr>\n",
              "    <tr>\n",
              "      <th>1</th>\n",
              "      <td>1000003240</td>\n",
              "      <td>white</td>\n",
              "      <td>minimal</td>\n",
              "      <td>ocean</td>\n",
              "      <td>2</td>\n",
              "      <td>브뤼셀*****</td>\n",
              "      <td>NaN</td>\n",
              "      <td>난방을 안해주셔서 춥게잤네요</td>\n",
              "      <td>2022.10.24</td>\n",
              "      <td>2</td>\n",
              "    </tr>\n",
              "    <tr>\n",
              "      <th>2</th>\n",
              "      <td>1000003240</td>\n",
              "      <td>white</td>\n",
              "      <td>minimal</td>\n",
              "      <td>ocean</td>\n",
              "      <td>3</td>\n",
              "      <td>영월2박3***</td>\n",
              "      <td>아이와 함께</td>\n",
              "      <td>방 깨끗합니다. 주변 산책하며 바닷가도 가까워 좋아요.\\n아쉬운 점은 방에 욱풍이 ...</td>\n",
              "      <td>2024.11.27</td>\n",
              "      <td>4</td>\n",
              "    </tr>\n",
              "    <tr>\n",
              "      <th>3</th>\n",
              "      <td>1000003240</td>\n",
              "      <td>white</td>\n",
              "      <td>minimal</td>\n",
              "      <td>ocean</td>\n",
              "      <td>3</td>\n",
              "      <td>작은그*****</td>\n",
              "      <td>NaN</td>\n",
              "      <td>막 별로였던 건 아니지만 생각보다 세련된 느낌의 펜션은 아니었어요.\\n그래도 원래 ...</td>\n",
              "      <td>2020.02.13</td>\n",
              "      <td>5</td>\n",
              "    </tr>\n",
              "    <tr>\n",
              "      <th>4</th>\n",
              "      <td>1000003240</td>\n",
              "      <td>white</td>\n",
              "      <td>minimal</td>\n",
              "      <td>ocean</td>\n",
              "      <td>4</td>\n",
              "      <td>초코렛이리*****</td>\n",
              "      <td>친구와 함께</td>\n",
              "      <td>바다와는 쪼금 거리가 있었지만 사장님이 친절했어요!\\n주방용품은 다 잘 되어있었는데...</td>\n",
              "      <td>1일 전</td>\n",
              "      <td>5</td>\n",
              "    </tr>\n",
              "    <tr>\n",
              "      <th>...</th>\n",
              "      <td>...</td>\n",
              "      <td>...</td>\n",
              "      <td>...</td>\n",
              "      <td>...</td>\n",
              "      <td>...</td>\n",
              "      <td>...</td>\n",
              "      <td>...</td>\n",
              "      <td>...</td>\n",
              "      <td>...</td>\n",
              "      <td>...</td>\n",
              "    </tr>\n",
              "    <tr>\n",
              "      <th>643838</th>\n",
              "      <td>3020735</td>\n",
              "      <td>white</td>\n",
              "      <td>minimal</td>\n",
              "      <td>other</td>\n",
              "      <td>5</td>\n",
              "      <td>으니062*</td>\n",
              "      <td>NaN</td>\n",
              "      <td>머무는 동안 즐거웠습니다 ♡</td>\n",
              "      <td>2023.10.02</td>\n",
              "      <td>3</td>\n",
              "    </tr>\n",
              "    <tr>\n",
              "      <th>643839</th>\n",
              "      <td>3020735</td>\n",
              "      <td>white</td>\n",
              "      <td>minimal</td>\n",
              "      <td>other</td>\n",
              "      <td>5</td>\n",
              "      <td>바스크조약***</td>\n",
              "      <td>NaN</td>\n",
              "      <td>입실하기 전부터 강화도 날씨 안내 겸 웰컴 문자를 보내주시고 편하고 재밌게 잘 쉬고...</td>\n",
              "      <td>2023.10.02</td>\n",
              "      <td>5</td>\n",
              "    </tr>\n",
              "    <tr>\n",
              "      <th>643840</th>\n",
              "      <td>3020735</td>\n",
              "      <td>white</td>\n",
              "      <td>minimal</td>\n",
              "      <td>other</td>\n",
              "      <td>5</td>\n",
              "      <td>sis79**</td>\n",
              "      <td>NaN</td>\n",
              "      <td>좋습니다ㅎ</td>\n",
              "      <td>2023.09.30</td>\n",
              "      <td>5</td>\n",
              "    </tr>\n",
              "    <tr>\n",
              "      <th>643841</th>\n",
              "      <td>3020735</td>\n",
              "      <td>white</td>\n",
              "      <td>minimal</td>\n",
              "      <td>other</td>\n",
              "      <td>5</td>\n",
              "      <td>알파고사랑*******</td>\n",
              "      <td>NaN</td>\n",
              "      <td>침대 매트리스에  긴머리카락 수두룩~~\\n사장님이 넘 친절하셔서  좋앗다.\\n그이상...</td>\n",
              "      <td>2023.09.29</td>\n",
              "      <td>5</td>\n",
              "    </tr>\n",
              "    <tr>\n",
              "      <th>643842</th>\n",
              "      <td>3020735</td>\n",
              "      <td>white</td>\n",
              "      <td>minimal</td>\n",
              "      <td>other</td>\n",
              "      <td>5</td>\n",
              "      <td>귀염둥이그*******</td>\n",
              "      <td>NaN</td>\n",
              "      <td>너무 깨끗하고 사장님 진짜 짱♡</td>\n",
              "      <td>2023.09.24</td>\n",
              "      <td>5</td>\n",
              "    </tr>\n",
              "  </tbody>\n",
              "</table>\n",
              "<p>643843 rows × 10 columns</p>\n",
              "</div>"
            ],
            "text/plain": [
              "              숙소ID  color    style   view  별점           작성자    동반유형  \\\n",
              "0       1000003240  white  minimal  ocean   1           니제*     NaN   \n",
              "1       1000003240  white  minimal  ocean   2      브뤼셀*****     NaN   \n",
              "2       1000003240  white  minimal  ocean   3      영월2박3***  아이와 함께   \n",
              "3       1000003240  white  minimal  ocean   3      작은그*****     NaN   \n",
              "4       1000003240  white  minimal  ocean   4    초코렛이리*****  친구와 함께   \n",
              "...            ...    ...      ...    ...  ..           ...     ...   \n",
              "643838     3020735  white  minimal  other   5        으니062*     NaN   \n",
              "643839     3020735  white  minimal  other   5      바스크조약***     NaN   \n",
              "643840     3020735  white  minimal  other   5       sis79**     NaN   \n",
              "643841     3020735  white  minimal  other   5  알파고사랑*******     NaN   \n",
              "643842     3020735  white  minimal  other   5  귀염둥이그*******     NaN   \n",
              "\n",
              "                                                     리뷰내용         작성일  감성별점  \n",
              "0       바다 안보임, 테라스 금연, 식수 없음, 객실 청결상태 안좋음, 드라이도 사용하기 ...  2022.10.02     1  \n",
              "1                                         난방을 안해주셔서 춥게잤네요  2022.10.24     2  \n",
              "2       방 깨끗합니다. 주변 산책하며 바닷가도 가까워 좋아요.\\n아쉬운 점은 방에 욱풍이 ...  2024.11.27     4  \n",
              "3       막 별로였던 건 아니지만 생각보다 세련된 느낌의 펜션은 아니었어요.\\n그래도 원래 ...  2020.02.13     5  \n",
              "4       바다와는 쪼금 거리가 있었지만 사장님이 친절했어요!\\n주방용품은 다 잘 되어있었는데...        1일 전     5  \n",
              "...                                                   ...         ...   ...  \n",
              "643838                                    머무는 동안 즐거웠습니다 ♡  2023.10.02     3  \n",
              "643839  입실하기 전부터 강화도 날씨 안내 겸 웰컴 문자를 보내주시고 편하고 재밌게 잘 쉬고...  2023.10.02     5  \n",
              "643840                                              좋습니다ㅎ  2023.09.30     5  \n",
              "643841  침대 매트리스에  긴머리카락 수두룩~~\\n사장님이 넘 친절하셔서  좋앗다.\\n그이상...  2023.09.29     5  \n",
              "643842                                  너무 깨끗하고 사장님 진짜 짱♡  2023.09.24     5  \n",
              "\n",
              "[643843 rows x 10 columns]"
            ]
          },
          "execution_count": 1,
          "metadata": {},
          "output_type": "execute_result"
        }
      ],
      "source": [
        "import pandas as pd\n",
        "df = pd.read_csv('추천시스템감성분석용_완.csv')\n",
        "df"
      ]
    },
    {
      "cell_type": "markdown",
      "metadata": {},
      "source": [
        "- 5점이 너무 높은 분포를 차지하고있음"
      ]
    },
    {
      "cell_type": "code",
      "execution_count": 2,
      "metadata": {},
      "outputs": [
        {
          "data": {
            "text/plain": [
              "감성별점\n",
              "5    286478\n",
              "1    141404\n",
              "4    134349\n",
              "3     59304\n",
              "2     22308\n",
              "Name: count, dtype: int64"
            ]
          },
          "execution_count": 2,
          "metadata": {},
          "output_type": "execute_result"
        }
      ],
      "source": [
        "df['감성별점'].value_counts()   "
      ]
    },
    {
      "cell_type": "code",
      "execution_count": 3,
      "metadata": {},
      "outputs": [],
      "source": [
        "# 작성자컬럼 앞뒤 공백 제거\n",
        "df['작성자'] = df['작성자'].str.strip()"
      ]
    },
    {
      "cell_type": "markdown",
      "metadata": {
        "id": "RnfHFItPYJ1S"
      },
      "source": [
        "- 데이터에 문제가 있는지 확인"
      ]
    },
    {
      "cell_type": "code",
      "execution_count": 5,
      "metadata": {
        "colab": {
          "base_uri": "https://localhost:8080/"
        },
        "id": "IU6tpBc_YINJ",
        "outputId": "c675f33d-52eb-4d4f-8df8-26f17d9ad95c"
      },
      "outputs": [
        {
          "name": "stdout",
          "output_type": "stream",
          "text": [
            "<class 'pandas.core.frame.DataFrame'>\n",
            "RangeIndex: 643843 entries, 0 to 643842\n",
            "Data columns (total 10 columns):\n",
            " #   Column  Non-Null Count   Dtype \n",
            "---  ------  --------------   ----- \n",
            " 0   숙소ID    643843 non-null  int64 \n",
            " 1   color   643843 non-null  object\n",
            " 2   style   643843 non-null  object\n",
            " 3   view    643843 non-null  object\n",
            " 4   별점      643843 non-null  int64 \n",
            " 5   작성자     643843 non-null  object\n",
            " 6   동반유형    214177 non-null  object\n",
            " 7   리뷰내용    643618 non-null  object\n",
            " 8   작성일     643843 non-null  object\n",
            " 9   감성별점    643843 non-null  int64 \n",
            "dtypes: int64(3), object(7)\n",
            "memory usage: 49.1+ MB\n"
          ]
        }
      ],
      "source": [
        "df.info()"
      ]
    },
    {
      "cell_type": "code",
      "execution_count": 6,
      "metadata": {
        "colab": {
          "base_uri": "https://localhost:8080/",
          "height": 300
        },
        "id": "WfRn8FVKeSIr",
        "outputId": "7a33ea07-5613-47ce-9a15-42b95473a517"
      },
      "outputs": [],
      "source": [
        "df['숙소ID'] = df['숙소ID'].astype(str)"
      ]
    },
    {
      "cell_type": "code",
      "execution_count": 7,
      "metadata": {},
      "outputs": [
        {
          "data": {
            "text/html": [
              "<div>\n",
              "<style scoped>\n",
              "    .dataframe tbody tr th:only-of-type {\n",
              "        vertical-align: middle;\n",
              "    }\n",
              "\n",
              "    .dataframe tbody tr th {\n",
              "        vertical-align: top;\n",
              "    }\n",
              "\n",
              "    .dataframe thead th {\n",
              "        text-align: right;\n",
              "    }\n",
              "</style>\n",
              "<table border=\"1\" class=\"dataframe\">\n",
              "  <thead>\n",
              "    <tr style=\"text-align: right;\">\n",
              "      <th></th>\n",
              "      <th>별점</th>\n",
              "      <th>감성별점</th>\n",
              "    </tr>\n",
              "  </thead>\n",
              "  <tbody>\n",
              "    <tr>\n",
              "      <th>count</th>\n",
              "      <td>643843.000000</td>\n",
              "      <td>643843.000000</td>\n",
              "    </tr>\n",
              "    <tr>\n",
              "      <th>mean</th>\n",
              "      <td>3.981944</td>\n",
              "      <td>3.624669</td>\n",
              "    </tr>\n",
              "    <tr>\n",
              "      <th>std</th>\n",
              "      <td>1.199806</td>\n",
              "      <td>1.584742</td>\n",
              "    </tr>\n",
              "    <tr>\n",
              "      <th>min</th>\n",
              "      <td>1.000000</td>\n",
              "      <td>1.000000</td>\n",
              "    </tr>\n",
              "    <tr>\n",
              "      <th>25%</th>\n",
              "      <td>3.000000</td>\n",
              "      <td>2.000000</td>\n",
              "    </tr>\n",
              "    <tr>\n",
              "      <th>50%</th>\n",
              "      <td>4.000000</td>\n",
              "      <td>4.000000</td>\n",
              "    </tr>\n",
              "    <tr>\n",
              "      <th>75%</th>\n",
              "      <td>5.000000</td>\n",
              "      <td>5.000000</td>\n",
              "    </tr>\n",
              "    <tr>\n",
              "      <th>max</th>\n",
              "      <td>5.000000</td>\n",
              "      <td>5.000000</td>\n",
              "    </tr>\n",
              "  </tbody>\n",
              "</table>\n",
              "</div>"
            ],
            "text/plain": [
              "                  별점           감성별점\n",
              "count  643843.000000  643843.000000\n",
              "mean        3.981944       3.624669\n",
              "std         1.199806       1.584742\n",
              "min         1.000000       1.000000\n",
              "25%         3.000000       2.000000\n",
              "50%         4.000000       4.000000\n",
              "75%         5.000000       5.000000\n",
              "max         5.000000       5.000000"
            ]
          },
          "execution_count": 7,
          "metadata": {},
          "output_type": "execute_result"
        }
      ],
      "source": [
        "df.describe()"
      ]
    },
    {
      "cell_type": "markdown",
      "metadata": {
        "id": "twHfXOLca7kq"
      },
      "source": [
        "### 외부 데이터프레임 사용시 주의점\n",
        "- 데이터 정제후 필요없는열은 제거.\n",
        "- 순서를 꼭 지켜주세요. 사용자-아이템-평점\n",
        "- surprise의 reader함수로 평점의 범위를 기록합니다.  "
      ]
    },
    {
      "cell_type": "code",
      "execution_count": 8,
      "metadata": {
        "id": "EKptMZaxca8T"
      },
      "outputs": [],
      "source": [
        "from surprise import Reader\n",
        "reader = Reader(rating_scale=(1, 5))"
      ]
    },
    {
      "cell_type": "code",
      "execution_count": 9,
      "metadata": {},
      "outputs": [],
      "source": [
        "from surprise import Dataset, Reader\n",
        "\n",
        "# 평점의 범위를 정의합니다 (예: 1점~5점)\n",
        "# 제공된 데이터의 감성별점은 1,2,3으로 보입니다.\n",
        "reader = Reader(rating_scale=(1, 5))\n",
        "\n",
        "# 데이터프레임에서 필요한 열을 선택하여 Surprise 데이터셋으로 로드합니다\n",
        "surprise_data = Dataset.load_from_df(df[['작성자', '숙소ID', '감성별점']], reader)"
      ]
    },
    {
      "cell_type": "markdown",
      "metadata": {
        "id": "buOAWHcCeoAK"
      },
      "source": [
        "## 데이터 나누기\n",
        "- 이제, 본격적으로 모델훈련 후 추천시스템을 만듭니다."
      ]
    },
    {
      "cell_type": "code",
      "execution_count": 10,
      "metadata": {
        "id": "enVIhYD0eta6"
      },
      "outputs": [],
      "source": [
        "from surprise import SVD\n",
        "from surprise.model_selection import train_test_split\n",
        "from surprise import accuracy\n",
        "\n",
        "#data = Dataset.load_builtin('ml-100k')\n",
        "trainset, testset = train_test_split(surprise_data, test_size=0.2, random_state=42)"
      ]
    },
    {
      "cell_type": "markdown",
      "metadata": {
        "id": "1WWiqdppgx6T"
      },
      "source": [
        "## 알고리즘 선택과 학습"
      ]
    },
    {
      "cell_type": "markdown",
      "metadata": {
        "id": "OhQjAWv8iZtT"
      },
      "source": [
        "### 예측함수 test(), predict()\n",
        "- test() 모든 검증 데이터에 대한 평점 예측\n",
        "- predict() 하나의 사용자와 아이템에 대한 예측"
      ]
    },
    {
      "cell_type": "code",
      "execution_count": 11,
      "metadata": {
        "colab": {
          "base_uri": "https://localhost:8080/"
        },
        "id": "CenmM8vvfVIC",
        "outputId": "f434202e-9bf3-4083-d866-ba7c6273faaa"
      },
      "outputs": [
        {
          "name": "stdout",
          "output_type": "stream",
          "text": [
            "RMSE: 1.4517\n"
          ]
        }
      ],
      "source": [
        "# 알고리즘 선택 및 학습 (SVD 사용)\n",
        "algo = SVD()\n",
        "algo.fit(trainset)\n",
        "\n",
        "# 테스트셋에 대한 예측 및 성능 평가\n",
        "pred = algo.test(testset) # 예측\n",
        "rmse = accuracy.rmse(pred) # 평가"
      ]
    },
    {
      "cell_type": "code",
      "execution_count": 12,
      "metadata": {
        "colab": {
          "base_uri": "https://localhost:8080/"
        },
        "id": "lUmtsI8pi9-s",
        "outputId": "c72b8ff0-59a2-4ae5-8929-0cda052206f5"
      },
      "outputs": [
        {
          "data": {
            "text/plain": [
              "list"
            ]
          },
          "execution_count": 12,
          "metadata": {},
          "output_type": "execute_result"
        }
      ],
      "source": [
        "type(pred)"
      ]
    },
    {
      "cell_type": "code",
      "execution_count": 13,
      "metadata": {
        "colab": {
          "base_uri": "https://localhost:8080/"
        },
        "id": "4D1dPpvz87zu",
        "outputId": "a2d4bd9a-ef73-4b31-c4d8-f774d80ebd13"
      },
      "outputs": [
        {
          "data": {
            "text/plain": [
              "128769"
            ]
          },
          "execution_count": 13,
          "metadata": {},
          "output_type": "execute_result"
        }
      ],
      "source": [
        "len(pred)"
      ]
    },
    {
      "cell_type": "code",
      "execution_count": 14,
      "metadata": {
        "colab": {
          "base_uri": "https://localhost:8080/"
        },
        "id": "OX7UeiiWjecD",
        "outputId": "e6a82355-e09d-477a-d738-ba076ee8442e"
      },
      "outputs": [
        {
          "data": {
            "text/plain": [
              "[Prediction(uid='가랑비********', iid='1000101009', r_ui=5.0, est=2.916804791071599, details={'was_impossible': False}),\n",
              " Prediction(uid='뚝섬샴****', iid='3011635', r_ui=5.0, est=3.7441887204992295, details={'was_impossible': False}),\n",
              " Prediction(uid='소풍스며들*****', iid='3009340', r_ui=1.0, est=3.1580957965698273, details={'was_impossible': False}),\n",
              " Prediction(uid='도깨비********', iid='1000103843', r_ui=4.0, est=4.187985370179964, details={'was_impossible': False}),\n",
              " Prediction(uid='조각구름알******', iid='10054622', r_ui=4.0, est=3.8178922169658707, details={'was_impossible': False})]"
            ]
          },
          "execution_count": 14,
          "metadata": {},
          "output_type": "execute_result"
        }
      ],
      "source": [
        "pred[:5]"
      ]
    },
    {
      "cell_type": "markdown",
      "metadata": {
        "id": "ANqhzRwtjh5z"
      },
      "source": [
        "* 리스트 요소\n",
        "  - uid:사용자 (\"어느 사용자를 위한 예측인지\")\n",
        "  - iid:아이템id\n",
        "  - r_ui:사용자 \"실제\" 평점\n",
        "  - est:모델이 구한 예측평점"
      ]
    },
    {
      "cell_type": "markdown",
      "metadata": {
        "id": "pDot3qAQkvss"
      },
      "source": [
        "## 특정 사용자와 아이템의 평점 예측"
      ]
    },
    {
      "cell_type": "code",
      "execution_count": 15,
      "metadata": {
        "colab": {
          "base_uri": "https://localhost:8080/",
          "height": 424
        },
        "id": "MALZ5v_klEHb",
        "outputId": "6def85ea-6744-4287-9db5-b9a21342f7b9"
      },
      "outputs": [
        {
          "data": {
            "text/html": [
              "<div>\n",
              "<style scoped>\n",
              "    .dataframe tbody tr th:only-of-type {\n",
              "        vertical-align: middle;\n",
              "    }\n",
              "\n",
              "    .dataframe tbody tr th {\n",
              "        vertical-align: top;\n",
              "    }\n",
              "\n",
              "    .dataframe thead th {\n",
              "        text-align: right;\n",
              "    }\n",
              "</style>\n",
              "<table border=\"1\" class=\"dataframe\">\n",
              "  <thead>\n",
              "    <tr style=\"text-align: right;\">\n",
              "      <th></th>\n",
              "      <th>숙소ID</th>\n",
              "      <th>color</th>\n",
              "      <th>style</th>\n",
              "      <th>view</th>\n",
              "      <th>별점</th>\n",
              "      <th>작성자</th>\n",
              "      <th>동반유형</th>\n",
              "      <th>리뷰내용</th>\n",
              "      <th>작성일</th>\n",
              "      <th>감성별점</th>\n",
              "    </tr>\n",
              "  </thead>\n",
              "  <tbody>\n",
              "    <tr>\n",
              "      <th>0</th>\n",
              "      <td>1000003240</td>\n",
              "      <td>white</td>\n",
              "      <td>minimal</td>\n",
              "      <td>ocean</td>\n",
              "      <td>1</td>\n",
              "      <td>니제*</td>\n",
              "      <td>NaN</td>\n",
              "      <td>바다 안보임, 테라스 금연, 식수 없음, 객실 청결상태 안좋음, 드라이도 사용하기 ...</td>\n",
              "      <td>2022.10.02</td>\n",
              "      <td>1</td>\n",
              "    </tr>\n",
              "    <tr>\n",
              "      <th>1</th>\n",
              "      <td>1000003240</td>\n",
              "      <td>white</td>\n",
              "      <td>minimal</td>\n",
              "      <td>ocean</td>\n",
              "      <td>2</td>\n",
              "      <td>브뤼셀*****</td>\n",
              "      <td>NaN</td>\n",
              "      <td>난방을 안해주셔서 춥게잤네요</td>\n",
              "      <td>2022.10.24</td>\n",
              "      <td>2</td>\n",
              "    </tr>\n",
              "    <tr>\n",
              "      <th>2</th>\n",
              "      <td>1000003240</td>\n",
              "      <td>white</td>\n",
              "      <td>minimal</td>\n",
              "      <td>ocean</td>\n",
              "      <td>3</td>\n",
              "      <td>영월2박3***</td>\n",
              "      <td>아이와 함께</td>\n",
              "      <td>방 깨끗합니다. 주변 산책하며 바닷가도 가까워 좋아요.\\n아쉬운 점은 방에 욱풍이 ...</td>\n",
              "      <td>2024.11.27</td>\n",
              "      <td>4</td>\n",
              "    </tr>\n",
              "    <tr>\n",
              "      <th>3</th>\n",
              "      <td>1000003240</td>\n",
              "      <td>white</td>\n",
              "      <td>minimal</td>\n",
              "      <td>ocean</td>\n",
              "      <td>3</td>\n",
              "      <td>작은그*****</td>\n",
              "      <td>NaN</td>\n",
              "      <td>막 별로였던 건 아니지만 생각보다 세련된 느낌의 펜션은 아니었어요.\\n그래도 원래 ...</td>\n",
              "      <td>2020.02.13</td>\n",
              "      <td>5</td>\n",
              "    </tr>\n",
              "    <tr>\n",
              "      <th>4</th>\n",
              "      <td>1000003240</td>\n",
              "      <td>white</td>\n",
              "      <td>minimal</td>\n",
              "      <td>ocean</td>\n",
              "      <td>4</td>\n",
              "      <td>초코렛이리*****</td>\n",
              "      <td>친구와 함께</td>\n",
              "      <td>바다와는 쪼금 거리가 있었지만 사장님이 친절했어요!\\n주방용품은 다 잘 되어있었는데...</td>\n",
              "      <td>1일 전</td>\n",
              "      <td>5</td>\n",
              "    </tr>\n",
              "    <tr>\n",
              "      <th>...</th>\n",
              "      <td>...</td>\n",
              "      <td>...</td>\n",
              "      <td>...</td>\n",
              "      <td>...</td>\n",
              "      <td>...</td>\n",
              "      <td>...</td>\n",
              "      <td>...</td>\n",
              "      <td>...</td>\n",
              "      <td>...</td>\n",
              "      <td>...</td>\n",
              "    </tr>\n",
              "    <tr>\n",
              "      <th>643838</th>\n",
              "      <td>3020735</td>\n",
              "      <td>white</td>\n",
              "      <td>minimal</td>\n",
              "      <td>other</td>\n",
              "      <td>5</td>\n",
              "      <td>으니062*</td>\n",
              "      <td>NaN</td>\n",
              "      <td>머무는 동안 즐거웠습니다 ♡</td>\n",
              "      <td>2023.10.02</td>\n",
              "      <td>3</td>\n",
              "    </tr>\n",
              "    <tr>\n",
              "      <th>643839</th>\n",
              "      <td>3020735</td>\n",
              "      <td>white</td>\n",
              "      <td>minimal</td>\n",
              "      <td>other</td>\n",
              "      <td>5</td>\n",
              "      <td>바스크조약***</td>\n",
              "      <td>NaN</td>\n",
              "      <td>입실하기 전부터 강화도 날씨 안내 겸 웰컴 문자를 보내주시고 편하고 재밌게 잘 쉬고...</td>\n",
              "      <td>2023.10.02</td>\n",
              "      <td>5</td>\n",
              "    </tr>\n",
              "    <tr>\n",
              "      <th>643840</th>\n",
              "      <td>3020735</td>\n",
              "      <td>white</td>\n",
              "      <td>minimal</td>\n",
              "      <td>other</td>\n",
              "      <td>5</td>\n",
              "      <td>sis79**</td>\n",
              "      <td>NaN</td>\n",
              "      <td>좋습니다ㅎ</td>\n",
              "      <td>2023.09.30</td>\n",
              "      <td>5</td>\n",
              "    </tr>\n",
              "    <tr>\n",
              "      <th>643841</th>\n",
              "      <td>3020735</td>\n",
              "      <td>white</td>\n",
              "      <td>minimal</td>\n",
              "      <td>other</td>\n",
              "      <td>5</td>\n",
              "      <td>알파고사랑*******</td>\n",
              "      <td>NaN</td>\n",
              "      <td>침대 매트리스에  긴머리카락 수두룩~~\\n사장님이 넘 친절하셔서  좋앗다.\\n그이상...</td>\n",
              "      <td>2023.09.29</td>\n",
              "      <td>5</td>\n",
              "    </tr>\n",
              "    <tr>\n",
              "      <th>643842</th>\n",
              "      <td>3020735</td>\n",
              "      <td>white</td>\n",
              "      <td>minimal</td>\n",
              "      <td>other</td>\n",
              "      <td>5</td>\n",
              "      <td>귀염둥이그*******</td>\n",
              "      <td>NaN</td>\n",
              "      <td>너무 깨끗하고 사장님 진짜 짱♡</td>\n",
              "      <td>2023.09.24</td>\n",
              "      <td>5</td>\n",
              "    </tr>\n",
              "  </tbody>\n",
              "</table>\n",
              "<p>643843 rows × 10 columns</p>\n",
              "</div>"
            ],
            "text/plain": [
              "              숙소ID  color    style   view  별점           작성자    동반유형  \\\n",
              "0       1000003240  white  minimal  ocean   1           니제*     NaN   \n",
              "1       1000003240  white  minimal  ocean   2      브뤼셀*****     NaN   \n",
              "2       1000003240  white  minimal  ocean   3      영월2박3***  아이와 함께   \n",
              "3       1000003240  white  minimal  ocean   3      작은그*****     NaN   \n",
              "4       1000003240  white  minimal  ocean   4    초코렛이리*****  친구와 함께   \n",
              "...            ...    ...      ...    ...  ..           ...     ...   \n",
              "643838     3020735  white  minimal  other   5        으니062*     NaN   \n",
              "643839     3020735  white  minimal  other   5      바스크조약***     NaN   \n",
              "643840     3020735  white  minimal  other   5       sis79**     NaN   \n",
              "643841     3020735  white  minimal  other   5  알파고사랑*******     NaN   \n",
              "643842     3020735  white  minimal  other   5  귀염둥이그*******     NaN   \n",
              "\n",
              "                                                     리뷰내용         작성일  감성별점  \n",
              "0       바다 안보임, 테라스 금연, 식수 없음, 객실 청결상태 안좋음, 드라이도 사용하기 ...  2022.10.02     1  \n",
              "1                                         난방을 안해주셔서 춥게잤네요  2022.10.24     2  \n",
              "2       방 깨끗합니다. 주변 산책하며 바닷가도 가까워 좋아요.\\n아쉬운 점은 방에 욱풍이 ...  2024.11.27     4  \n",
              "3       막 별로였던 건 아니지만 생각보다 세련된 느낌의 펜션은 아니었어요.\\n그래도 원래 ...  2020.02.13     5  \n",
              "4       바다와는 쪼금 거리가 있었지만 사장님이 친절했어요!\\n주방용품은 다 잘 되어있었는데...        1일 전     5  \n",
              "...                                                   ...         ...   ...  \n",
              "643838                                    머무는 동안 즐거웠습니다 ♡  2023.10.02     3  \n",
              "643839  입실하기 전부터 강화도 날씨 안내 겸 웰컴 문자를 보내주시고 편하고 재밌게 잘 쉬고...  2023.10.02     5  \n",
              "643840                                              좋습니다ㅎ  2023.09.30     5  \n",
              "643841  침대 매트리스에  긴머리카락 수두룩~~\\n사장님이 넘 친절하셔서  좋앗다.\\n그이상...  2023.09.29     5  \n",
              "643842                                  너무 깨끗하고 사장님 진짜 짱♡  2023.09.24     5  \n",
              "\n",
              "[643843 rows x 10 columns]"
            ]
          },
          "execution_count": 15,
          "metadata": {},
          "output_type": "execute_result"
        }
      ],
      "source": [
        "df"
      ]
    },
    {
      "cell_type": "markdown",
      "metadata": {
        "id": "a_qQt0UdlMrr"
      },
      "source": []
    },
    {
      "cell_type": "code",
      "execution_count": 16,
      "metadata": {
        "colab": {
          "base_uri": "https://localhost:8080/"
        },
        "id": "eQpQ_8R_lKWL",
        "outputId": "3a41545e-70f8-404b-e57d-2ead98a21935"
      },
      "outputs": [
        {
          "name": "stdout",
          "output_type": "stream",
          "text": [
            "user: 부산낡은배***   item: 1020479    r_ui = None   est = 3.28   {'was_impossible': False}\n"
          ]
        }
      ],
      "source": [
        "# uid와 iid는 문자열 형태이므로 문자열로 넣어줌\n",
        "uid = '부산낡은배***' #유저id\n",
        "iid = '1020479' #위 유저가 본적없는 영화 id\n",
        "test = algo.predict(uid, iid)\n",
        "print(test)"
      ]
    },
    {
      "cell_type": "markdown",
      "metadata": {
        "id": "AqHF18MjmeKs"
      },
      "source": [
        "## 교차검증과 하이퍼파라미터 튜닝"
      ]
    },
    {
      "cell_type": "code",
      "execution_count": 17,
      "metadata": {
        "colab": {
          "base_uri": "https://localhost:8080/"
        },
        "id": "94IaO07AmdgD",
        "outputId": "ff6dd982-03dd-4562-e69f-9050a474b73e"
      },
      "outputs": [
        {
          "name": "stdout",
          "output_type": "stream",
          "text": [
            "Evaluating RMSE, MAE of algorithm SVD on 5 split(s).\n",
            "\n",
            "                  Fold 1  Fold 2  Fold 3  Fold 4  Fold 5  Mean    Std     \n",
            "RMSE (testset)    1.4551  1.4534  1.4549  1.4483  1.4542  1.4532  0.0025  \n",
            "MAE (testset)     1.1790  1.1789  1.1788  1.1743  1.1800  1.1782  0.0020  \n",
            "Fit time          4.07    4.17    4.36    4.45    4.38    4.29    0.14    \n",
            "Test time         0.60    0.59    0.37    0.36    0.64    0.51    0.12    \n"
          ]
        },
        {
          "data": {
            "text/plain": [
              "{'test_rmse': array([1.45511102, 1.45342121, 1.45486371, 1.44826708, 1.45422763]),\n",
              " 'test_mae': array([1.17901685, 1.17885635, 1.17879481, 1.17428175, 1.17997587]),\n",
              " 'fit_time': (4.071720838546753,\n",
              "  4.170668125152588,\n",
              "  4.361380100250244,\n",
              "  4.4482245445251465,\n",
              "  4.378214597702026),\n",
              " 'test_time': (0.5969216823577881,\n",
              "  0.5911753177642822,\n",
              "  0.37001657485961914,\n",
              "  0.35722827911376953,\n",
              "  0.6440277099609375)}"
            ]
          },
          "execution_count": 17,
          "metadata": {},
          "output_type": "execute_result"
        }
      ],
      "source": [
        "from surprise.model_selection import cross_validate\n",
        "cross_validate(algo, surprise_data, measures=['RMSE', 'MAE'], cv=5, verbose=True)"
      ]
    },
    {
      "cell_type": "code",
      "execution_count": 18,
      "metadata": {
        "colab": {
          "base_uri": "https://localhost:8080/"
        },
        "id": "rljAA3fSpWG1",
        "outputId": "6af9fa63-79d7-4223-d77f-c5d2296c0a43"
      },
      "outputs": [
        {
          "name": "stdout",
          "output_type": "stream",
          "text": [
            "=== SVD ===\n"
          ]
        },
        {
          "name": "stdout",
          "output_type": "stream",
          "text": [
            "Evaluating RMSE, MAE of algorithm SVD on 5 split(s).\n",
            "\n",
            "                  Fold 1  Fold 2  Fold 3  Fold 4  Fold 5  Mean    Std     \n",
            "RMSE (testset)    1.4536  1.4526  1.4541  1.4501  1.4549  1.4531  0.0017  \n",
            "MAE (testset)     1.1789  1.1770  1.1792  1.1764  1.1788  1.1781  0.0011  \n",
            "Fit time          3.96    3.87    4.33    4.35    4.01    4.10    0.20    \n",
            "Test time         0.63    0.68    0.37    0.68    0.36    0.54    0.14    \n",
            "\n",
            "=== BaselineOnly ===\n",
            "Estimating biases using als...\n",
            "Estimating biases using als...\n",
            "Estimating biases using als...\n",
            "Estimating biases using als...\n",
            "Estimating biases using als...\n",
            "Evaluating RMSE, MAE of algorithm BaselineOnly on 5 split(s).\n",
            "\n",
            "                  Fold 1  Fold 2  Fold 3  Fold 4  Fold 5  Mean    Std     \n",
            "RMSE (testset)    1.4470  1.4546  1.4538  1.4532  1.4544  1.4526  0.0029  \n",
            "MAE (testset)     1.2192  1.2265  1.2267  1.2249  1.2257  1.2246  0.0028  \n",
            "Fit time          0.93    0.92    0.96    1.00    1.00    0.96    0.03    \n",
            "Test time         0.63    0.60    0.24    0.25    0.25    0.39    0.18    \n",
            "\n",
            "=== Summary ===\n",
            "SVD mean RMSE: 1.4531, mean MAE: 1.1781\n",
            "BaselineOnly mean RMSE: 1.4526, mean MAE: 1.2246\n"
          ]
        }
      ],
      "source": [
        "from surprise import Dataset, SVD, KNNBasic, BaselineOnly\n",
        "# SVD 알고리즘 교차 검증\n",
        "print(\"=== SVD ===\")\n",
        "svd = SVD()  # 기본 파라미터로 SVD 알고리즘 사용\n",
        "svd_results = cross_validate(svd, surprise_data, measures=['RMSE', 'MAE'], cv=5, verbose=True)\n",
        "\n",
        "# # KNNBasic 알고리즘 교차 검증\n",
        "# print(\"\\n=== KNNBasic ===\")\n",
        "# knn = KNNBasic()  # 기본 파라미터로 KNNBasic 알고리즘 사용\n",
        "# knn_results = cross_validate(knn, surprise_data, measures=['RMSE', 'MAE'], cv=5, verbose=True)\n",
        "\n",
        "# BaselineOnly 알고리즘 교차 검증\n",
        "print(\"\\n=== BaselineOnly ===\")\n",
        "base = BaselineOnly()  # 기본 파라미터로 BaselineOnly 알고리즘 사용\n",
        "base_results = cross_validate(base, surprise_data, measures=['RMSE', 'MAE'], cv=5, verbose=True)\n",
        "\n",
        "# 결과 요약\n",
        "print(\"\\n=== Summary ===\")\n",
        "print(f\"SVD mean RMSE: {sum(svd_results['test_rmse'])/5:.4f}, mean MAE: {sum(svd_results['test_mae'])/5:.4f}\")\n",
        "#print(f\"KNNBasic mean RMSE: {sum(knn_results['test_rmse'])/5:.4f}, mean MAE: {sum(knn_results['test_mae'])/5:.4f}\")\n",
        "print(f\"BaselineOnly mean RMSE: {sum(base_results['test_rmse'])/5:.4f}, mean MAE: {sum(base_results['test_mae'])/5:.4f}\")"
      ]
    },
    {
      "cell_type": "markdown",
      "metadata": {
        "id": "ubgiDvh2tXSM"
      },
      "source": [
        "- 최적의 하이퍼파라미터 찾기"
      ]
    },
    {
      "cell_type": "code",
      "execution_count": 19,
      "metadata": {
        "colab": {
          "base_uri": "https://localhost:8080/"
        },
        "id": "WUALr0BvpyqM",
        "outputId": "ad83d75f-b3fe-41bc-cee1-987b9e3a8b39"
      },
      "outputs": [
        {
          "name": "stdout",
          "output_type": "stream",
          "text": [
            "1.4516613503181688\n",
            "{'n_epochs': 20, 'n_factors': 50}\n"
          ]
        }
      ],
      "source": [
        "from surprise.model_selection import GridSearchCV\n",
        "\n",
        "# 최적화할 파라미터들을 딕셔너리 형태로 지정.\n",
        "param_grid = {'n_epochs': [20, 40, 60], 'n_factors':[50, 100, 200]}\n",
        "                #에포크 학습 반복.        svd 잠재요인\n",
        "# CV를 3개 폴드 세트로 지정, 성능 평가는 rmse, mse 로 수행 하도록 GridSearchCV 구성\n",
        "gs = GridSearchCV(SVD, param_grid, measures=['rmse'], cv=3)\n",
        "gs.fit(surprise_data)\n",
        "# 최고 RMSE Evaluation 점수와 그때의 하이퍼 파라미터\n",
        "print(gs.best_score['rmse'])\n",
        "print(gs.best_params['rmse'])"
      ]
    },
    {
      "cell_type": "markdown",
      "metadata": {
        "id": "so8ZvyDFtaT0"
      },
      "source": [
        "- 최적의 파라미터로 재학습"
      ]
    },
    {
      "cell_type": "code",
      "execution_count": 20,
      "metadata": {
        "colab": {
          "base_uri": "https://localhost:8080/"
        },
        "id": "Bg2xmVKRtQ4L",
        "outputId": "7c044f42-bf27-4265-c749-7a6b5c11eea7"
      },
      "outputs": [
        {
          "data": {
            "text/plain": [
              "<surprise.prediction_algorithms.matrix_factorization.SVD at 0x1a0863d5ab0>"
            ]
          },
          "execution_count": 20,
          "metadata": {},
          "output_type": "execute_result"
        }
      ],
      "source": [
        "best_p = gs.best_params['rmse']\n",
        "trainset = surprise_data.build_full_trainset()\n",
        "algo = SVD(n_epochs=best_p['n_epochs'], n_factors=best_p['n_factors'])\n",
        "algo.fit(trainset)"
      ]
    },
    {
      "cell_type": "code",
      "execution_count": 21,
      "metadata": {},
      "outputs": [
        {
          "data": {
            "text/plain": [
              "['best_svd_model.joblib']"
            ]
          },
          "execution_count": 21,
          "metadata": {},
          "output_type": "execute_result"
        }
      ],
      "source": [
        "# GridSearchCV 결과에서 얻은 최적의 파라미터로 SVD 모델을 생성\n",
        "best_params = gs.best_params['rmse']\n",
        "best_svd = SVD(n_epochs=best_params['n_epochs'], n_factors=best_params['n_factors'])\n",
        "\n",
        "# 전체 학습 데이터셋을 사용하여 최종 모델을 학습\n",
        "best_svd.fit(trainset)\n",
        "\n",
        "# === 이 부분을 피클로 저장해야 합니다 ===\n",
        "# ...existing code...\n",
        "import joblib\n",
        "joblib.dump(best_svd, 'best_svd_model.joblib')\n",
        "# ...existing code..."
      ]
    },
    {
      "cell_type": "code",
      "execution_count": 38,
      "metadata": {},
      "outputs": [],
      "source": [
        "# 예시: 특정 사용자 ID ('나폴리트레****'와 같은 실제 작성자 ID)\n",
        "user_id = '바스크조약***'\n",
        "\n",
        "# 전체 데이터셋에서 해당 사용자가 이미 평점을 매긴 숙소 목록을 가져옵니다.\n",
        "rated_accommodations = df.loc[df['작성자'] == user_id, '숙소ID'].tolist()\n",
        "\n",
        "# 전체 숙소 목록을 가져옵니다.\n",
        "all_accommodations = df['숙소ID'].unique()\n",
        "\n",
        "# 아직 평점을 매기지 않은 숙소 목록을 필터링합니다.\n",
        "unrated_accommodations = [item for item in all_accommodations if item not in rated_accommodations]\n",
        "\n",
        "# 필터링된 숙소들에 대한 예상 평점을 계산합니다.\n",
        "predictions = []\n",
        "for accommodation_id in unrated_accommodations:\n",
        "    predicted_rating = best_svd.predict(user_id, accommodation_id)\n",
        "    predictions.append(predicted_rating)"
      ]
    },
    {
      "cell_type": "code",
      "execution_count": 39,
      "metadata": {},
      "outputs": [
        {
          "name": "stdout",
          "output_type": "stream",
          "text": [
            "\n",
            "바스크조약*** 님에게 추천하는 숙소 TOP 10:\n",
            "1위: 숙소ID 1000092412 - 예상 평점: 5\n",
            "2위: 숙소ID 1000094308 - 예상 평점: 5\n",
            "3위: 숙소ID 1000100216 - 예상 평점: 5\n",
            "4위: 숙소ID 1000101965 - 예상 평점: 5\n",
            "5위: 숙소ID 1000109519 - 예상 평점: 5\n",
            "6위: 숙소ID 1000111415 - 예상 평점: 5\n",
            "7위: 숙소ID 10041674 - 예상 평점: 5\n",
            "8위: 숙소ID 10044478 - 예상 평점: 5\n",
            "9위: 숙소ID 10052014 - 예상 평점: 5\n",
            "10위: 숙소ID 3002268 - 예상 평점: 5\n"
          ]
        }
      ],
      "source": [
        "# ...existing code...\n",
        "predictions = []\n",
        "for accommodation_id in unrated_accommodations:\n",
        "    predicted_rating = best_svd.predict(user_id, accommodation_id)\n",
        "    predictions.append(predicted_rating)\n",
        "\n",
        "# 예측 평점을 기준으로 내림차순 정렬하여 상위 10개 추천\n",
        "predictions.sort(key=lambda x: x.est, reverse=True)\n",
        "top_10_recommendations = predictions[:10]\n",
        "\n",
        "print(f\"\\n{user_id} 님에게 추천하는 숙소 TOP 10:\")\n",
        "for i, pred in enumerate(top_10_recommendations):\n",
        "    print(f\"{i+1}위: 숙소ID {pred.iid} - 예상 평점: {pred.est}\")\n",
        "# ...existing code..."
      ]
    },
    {
      "cell_type": "code",
      "execution_count": 24,
      "metadata": {},
      "outputs": [
        {
          "name": "stdout",
          "output_type": "stream",
          "text": [
            "\n",
            "나폴리트레**** 님에게 추천하는 숙소 TOP 150:\n",
            "1위: 숙소ID 3013225 - 예상 평점: 5\n",
            "2위: 숙소ID 1000094308 - 예상 평점: 4.9201140536926\n",
            "3위: 숙소ID 1000111415 - 예상 평점: 4.895832626208463\n",
            "4위: 숙소ID 1000100216 - 예상 평점: 4.889916219319052\n",
            "5위: 숙소ID 3002268 - 예상 평점: 4.885659963209895\n",
            "6위: 숙소ID 1000109516 - 예상 평점: 4.876221804880176\n",
            "7위: 숙소ID 3010529 - 예상 평점: 4.874419341268908\n",
            "8위: 숙소ID 3011813 - 예상 평점: 4.861573486473325\n",
            "9위: 숙소ID 3010266 - 예상 평점: 4.8560255870079905\n",
            "10위: 숙소ID 3016367 - 예상 평점: 4.855693776450955\n",
            "11위: 숙소ID 1000110965 - 예상 평점: 4.846066870694903\n",
            "12위: 숙소ID 1000087511 - 예상 평점: 4.845768392407097\n",
            "13위: 숙소ID 10039349 - 예상 평점: 4.8456242430713905\n",
            "14위: 숙소ID 1000109921 - 예상 평점: 4.8422480419913825\n",
            "15위: 숙소ID 1000101965 - 예상 평점: 4.840891787307781\n",
            "16위: 숙소ID 10044607 - 예상 평점: 4.836742755395974\n",
            "17위: 숙소ID 3013096 - 예상 평점: 4.828314223717406\n",
            "18위: 숙소ID 3008405 - 예상 평점: 4.819866969627826\n",
            "19위: 숙소ID 1000104986 - 예상 평점: 4.819326744725826\n",
            "20위: 숙소ID 3016494 - 예상 평점: 4.8179767153099835\n",
            "21위: 숙소ID 10042877 - 예상 평점: 4.816415917053639\n",
            "22위: 숙소ID 3014130 - 예상 평점: 4.812222045662532\n",
            "23위: 숙소ID 1000108356 - 예상 평점: 4.81200270130055\n",
            "24위: 숙소ID 10056346 - 예상 평점: 4.81117447770388\n",
            "25위: 숙소ID 1000114068 - 예상 평점: 4.808735074029154\n",
            "26위: 숙소ID 10048737 - 예상 평점: 4.807501822564055\n",
            "27위: 숙소ID 10046744 - 예상 평점: 4.805535443436755\n",
            "28위: 숙소ID 1000099508 - 예상 평점: 4.802894278582717\n",
            "29위: 숙소ID 10056958 - 예상 평점: 4.800458467386008\n",
            "30위: 숙소ID 10052182 - 예상 평점: 4.7996325635457575\n",
            "31위: 숙소ID 10060711 - 예상 평점: 4.797747971985283\n",
            "32위: 숙소ID 3018285 - 예상 평점: 4.79572250905969\n",
            "33위: 숙소ID 10046997 - 예상 평점: 4.795515270710043\n",
            "34위: 숙소ID 10047152 - 예상 평점: 4.795109627678267\n",
            "35위: 숙소ID 3005679 - 예상 평점: 4.794811490454726\n",
            "36위: 숙소ID 10041617 - 예상 평점: 4.79452802034424\n",
            "37위: 숙소ID 10056197 - 예상 평점: 4.792584582807458\n",
            "38위: 숙소ID 10056792 - 예상 평점: 4.792325551915237\n",
            "39위: 숙소ID 3014787 - 예상 평점: 4.7918121591678\n",
            "40위: 숙소ID 1000091722 - 예상 평점: 4.791283777436794\n",
            "41위: 숙소ID 1000092412 - 예상 평점: 4.788003047295624\n",
            "42위: 숙소ID 3018354 - 예상 평점: 4.787948488506324\n",
            "43위: 숙소ID 10043412 - 예상 평점: 4.784995024873437\n",
            "44위: 숙소ID 1000112803 - 예상 평점: 4.782982835540348\n",
            "45위: 숙소ID 3011684 - 예상 평점: 4.781855642505763\n",
            "46위: 숙소ID 10043009 - 예상 평점: 4.781721872316695\n",
            "47위: 숙소ID 1000109257 - 예상 평점: 4.7817133323001\n",
            "48위: 숙소ID 10040444 - 예상 평점: 4.7801455720065595\n",
            "49위: 숙소ID 3016779 - 예상 평점: 4.779169087687139\n",
            "50위: 숙소ID 3008995 - 예상 평점: 4.774677979435277\n",
            "51위: 숙소ID 1000108885 - 예상 평점: 4.774142936999736\n",
            "52위: 숙소ID 1000114338 - 예상 평점: 4.773183004817509\n",
            "53위: 숙소ID 10041674 - 예상 평점: 4.773089360021144\n",
            "54위: 숙소ID 10057121 - 예상 평점: 4.771515793107326\n",
            "55위: 숙소ID 3013294 - 예상 평점: 4.768966607495802\n",
            "56위: 숙소ID 3011994 - 예상 평점: 4.76895616838802\n",
            "57위: 숙소ID 1000110142 - 예상 평점: 4.764982847404368\n",
            "58위: 숙소ID 1000090001 - 예상 평점: 4.764774602998931\n",
            "59위: 숙소ID 1000101993 - 예상 평점: 4.764690520059129\n",
            "60위: 숙소ID 10058349 - 예상 평점: 4.762206560933247\n",
            "61위: 숙소ID 10039510 - 예상 평점: 4.762179452222429\n",
            "62위: 숙소ID 10052014 - 예상 평점: 4.762008235969132\n",
            "63위: 숙소ID 3010985 - 예상 평점: 4.75868243034604\n",
            "64위: 숙소ID 1000112251 - 예상 평점: 4.756984424085542\n",
            "65위: 숙소ID 3012481 - 예상 평점: 4.75574067689885\n",
            "66위: 숙소ID 10048356 - 예상 평점: 4.755550449838876\n",
            "67위: 숙소ID 10060979 - 예상 평점: 4.753036545308173\n",
            "68위: 숙소ID 10046461 - 예상 평점: 4.752390201446649\n",
            "69위: 숙소ID 10039577 - 예상 평점: 4.749171451645448\n",
            "70위: 숙소ID 1000102094 - 예상 평점: 4.749123116901465\n",
            "71위: 숙소ID 3013510 - 예상 평점: 4.749025094693721\n",
            "72위: 숙소ID 10058301 - 예상 평점: 4.748297409368839\n",
            "73위: 숙소ID 10052265 - 예상 평점: 4.746823701093014\n",
            "74위: 숙소ID 3015605 - 예상 평점: 4.745693837433709\n",
            "75위: 숙소ID 3007318 - 예상 평점: 4.743679657932548\n",
            "76위: 숙소ID 10043827 - 예상 평점: 4.74038823978192\n",
            "77위: 숙소ID 10039508 - 예상 평점: 4.7402110986596835\n",
            "78위: 숙소ID 3018294 - 예상 평점: 4.73713319162752\n",
            "79위: 숙소ID 3006448 - 예상 평점: 4.736522127366994\n",
            "80위: 숙소ID 1000110392 - 예상 평점: 4.736342084655754\n",
            "81위: 숙소ID 3005808 - 예상 평점: 4.7333713270642255\n",
            "82위: 숙소ID 1000100552 - 예상 평점: 4.732934021885593\n",
            "83위: 숙소ID 10044284 - 예상 평점: 4.729345236116089\n",
            "84위: 숙소ID 10052651 - 예상 평점: 4.728976531265865\n",
            "85위: 숙소ID 1000101005 - 예상 평점: 4.726249674833206\n",
            "86위: 숙소ID 3016971 - 예상 평점: 4.725776854869927\n",
            "87위: 숙소ID 10051785 - 예상 평점: 4.723691030719687\n",
            "88위: 숙소ID 3009462 - 예상 평점: 4.722368507409113\n",
            "89위: 숙소ID 10048293 - 예상 평점: 4.72176162554772\n",
            "90위: 숙소ID 3012750 - 예상 평점: 4.721657644891237\n",
            "91위: 숙소ID 10039999 - 예상 평점: 4.7203989739385905\n",
            "92위: 숙소ID 3013808 - 예상 평점: 4.7202573022163\n",
            "93위: 숙소ID 10054442 - 예상 평점: 4.719904825844245\n",
            "94위: 숙소ID 1000104903 - 예상 평점: 4.718730983948127\n",
            "95위: 숙소ID 10045240 - 예상 평점: 4.717010664766223\n",
            "96위: 숙소ID 1000100687 - 예상 평점: 4.715276834137621\n",
            "97위: 숙소ID 25295 - 예상 평점: 4.714798627530073\n",
            "98위: 숙소ID 1000099537 - 예상 평점: 4.710833871560024\n",
            "99위: 숙소ID 10044242 - 예상 평점: 4.7102471227422695\n",
            "100위: 숙소ID 1000109424 - 예상 평점: 4.709472247845589\n",
            "101위: 숙소ID 3006529 - 예상 평점: 4.709422992377779\n",
            "102위: 숙소ID 1000108888 - 예상 평점: 4.7087988937393135\n",
            "103위: 숙소ID 10053320 - 예상 평점: 4.708351088747553\n",
            "104위: 숙소ID 10058155 - 예상 평점: 4.706828270565359\n",
            "105위: 숙소ID 10042785 - 예상 평점: 4.702791758903493\n",
            "106위: 숙소ID 10044189 - 예상 평점: 4.7008197857819285\n",
            "107위: 숙소ID 10044015 - 예상 평점: 4.700708154233564\n",
            "108위: 숙소ID 10044478 - 예상 평점: 4.699551052954671\n",
            "109위: 숙소ID 1000112037 - 예상 평점: 4.698356439091006\n",
            "110위: 숙소ID 10048782 - 예상 평점: 4.698185203761926\n",
            "111위: 숙소ID 3008635 - 예상 평점: 4.697701798130525\n",
            "112위: 숙소ID 10047405 - 예상 평점: 4.69620703052218\n",
            "113위: 숙소ID 10059901 - 예상 평점: 4.69546564487456\n",
            "114위: 숙소ID 3012271 - 예상 평점: 4.694766881681971\n",
            "115위: 숙소ID 10051099 - 예상 평점: 4.694693768895707\n",
            "116위: 숙소ID 1000110209 - 예상 평점: 4.69396608827987\n",
            "117위: 숙소ID 1000109696 - 예상 평점: 4.692116323854945\n",
            "118위: 숙소ID 10049076 - 예상 평점: 4.68990301764243\n",
            "119위: 숙소ID 10056029 - 예상 평점: 4.689571045804412\n",
            "120위: 숙소ID 10048707 - 예상 평점: 4.68941377352977\n",
            "121위: 숙소ID 3012361 - 예상 평점: 4.689311543098246\n",
            "122위: 숙소ID 10044572 - 예상 평점: 4.688931781978751\n",
            "123위: 숙소ID 1000099669 - 예상 평점: 4.6879877601234865\n",
            "124위: 숙소ID 3020435 - 예상 평점: 4.686227810353174\n",
            "125위: 숙소ID 10046872 - 예상 평점: 4.685853891377213\n",
            "126위: 숙소ID 10058299 - 예상 평점: 4.685825252307696\n",
            "127위: 숙소ID 3013535 - 예상 평점: 4.683923840490773\n",
            "128위: 숙소ID 1000113839 - 예상 평점: 4.682301897835642\n",
            "129위: 숙소ID 10045672 - 예상 평점: 4.681327698855032\n",
            "130위: 숙소ID 10042447 - 예상 평점: 4.678235967806255\n",
            "131위: 숙소ID 10043679 - 예상 평점: 4.678232011709448\n",
            "132위: 숙소ID 3009545 - 예상 평점: 4.676706988236053\n",
            "133위: 숙소ID 10056511 - 예상 평점: 4.676535053530019\n",
            "134위: 숙소ID 3014370 - 예상 평점: 4.675813432134137\n",
            "135위: 숙소ID 10060267 - 예상 평점: 4.672310957552464\n",
            "136위: 숙소ID 1000104896 - 예상 평점: 4.672196854892876\n",
            "137위: 숙소ID 1000109519 - 예상 평점: 4.67201066296112\n",
            "138위: 숙소ID 10050530 - 예상 평점: 4.671886726125352\n",
            "139위: 숙소ID 10039481 - 예상 평점: 4.669778347136646\n",
            "140위: 숙소ID 1000113387 - 예상 평점: 4.66952751584997\n",
            "141위: 숙소ID 10045543 - 예상 평점: 4.668267003176692\n",
            "142위: 숙소ID 3017038 - 예상 평점: 4.668001311818808\n",
            "143위: 숙소ID 3014494 - 예상 평점: 4.665672540952932\n",
            "144위: 숙소ID 1000101223 - 예상 평점: 4.665486666812052\n",
            "145위: 숙소ID 1000102375 - 예상 평점: 4.665257914937029\n",
            "146위: 숙소ID 10045439 - 예상 평점: 4.664231320854063\n",
            "147위: 숙소ID 3006427 - 예상 평점: 4.663417705365147\n",
            "148위: 숙소ID 1000103394 - 예상 평점: 4.663119465067663\n",
            "149위: 숙소ID 3018176 - 예상 평점: 4.662884432763023\n",
            "150위: 숙소ID 1000113746 - 예상 평점: 4.662575652857393\n"
          ]
        }
      ],
      "source": [
        "# 예측 평점을 기준으로 내림차순 정렬하여 상위 10개 추천\n",
        "predictions.sort(key=lambda x: x.est, reverse=True)\n",
        "top_150_recommendations = predictions[:150]\n",
        "\n",
        "print(f\"\\n{user_id} 님에게 추천하는 숙소 TOP 150:\")\n",
        "for i, pred in enumerate(top_150_recommendations):\n",
        "    print(f\"{i+1}위: 숙소ID {pred.iid} - 예상 평점: {pred.est}\")"
      ]
    },
    {
      "cell_type": "markdown",
      "metadata": {},
      "source": [
        "# 추천 시스템 모델 완성"
      ]
    },
    {
      "cell_type": "code",
      "execution_count": 161,
      "metadata": {},
      "outputs": [],
      "source": [
        "# # ...existing code...\n",
        "# import joblib\n",
        "\n",
        "# # 저장된 모델 로드\n",
        "# loaded_svd = joblib.load('best_svd_model.joblib')\n",
        "\n",
        "# # 추천 예시\n",
        "# user_id = '나폴리트레****'\n",
        "# rated_accommodations = df.loc[df['작성자'] == user_id, '숙소ID'].tolist()\n",
        "# all_accommodations = df['숙소ID'].unique()\n",
        "# unrated_accommodations = [item for item in all_accommodations if item not in rated_accommodations]\n",
        "\n",
        "# predictions = []\n",
        "# for accommodation_id in unrated_accommodations:\n",
        "#     predicted_rating = loaded_svd.predict(str(user_id), str(accommodation_id))\n",
        "#     predictions.append(predicted_rating)\n",
        "\n",
        "# predictions.sort(key=lambda x: x.est, reverse=True)\n",
        "# top_10_recommendations = predictions[:10]\n",
        "\n",
        "# print(f\"\\n{user_id} 님에게 추천하는 숙소 TOP 10:\")\n",
        "# for i, pred in enumerate(top_10_recommendations):\n",
        "#     print(f\"{i+1}위: 숙소ID {pred.iid} - 예상 평점: {pred.est}\")\n",
        "# # ...existing code..."
      ]
    },
    {
      "cell_type": "code",
      "execution_count": 28,
      "metadata": {},
      "outputs": [
        {
          "name": "stdout",
          "output_type": "stream",
          "text": [
            "\n",
            "아가* 님에게 추천하는 숙소 TOP 10:\n",
            "1위: 숙소ID 1000090694 - 예상 평점: 5\n",
            "2위: 숙소ID 1000091713 - 예상 평점: 5\n",
            "3위: 숙소ID 1000092412 - 예상 평점: 5\n",
            "4위: 숙소ID 1000094308 - 예상 평점: 5\n",
            "5위: 숙소ID 1000099537 - 예상 평점: 5\n",
            "6위: 숙소ID 1000100216 - 예상 평점: 5\n",
            "7위: 숙소ID 1000100665 - 예상 평점: 5\n",
            "8위: 숙소ID 1000104896 - 예상 평점: 5\n",
            "9위: 숙소ID 1000108134 - 예상 평점: 5\n",
            "10위: 숙소ID 1000108458 - 예상 평점: 5\n"
          ]
        }
      ],
      "source": [
        "import joblib\n",
        "\n",
        "# 저장된 모델 로드\n",
        "loaded_svd = joblib.load('best_svd_model.joblib')\n",
        "\n",
        "# 추천 예시\n",
        "user_id = df.iloc[200]['작성자']\n",
        "rated_accommodations = df.loc[df['작성자'] == user_id, '숙소ID'].tolist()\n",
        "all_accommodations = df['숙소ID'].unique()\n",
        "unrated_accommodations = [item for item in all_accommodations if item not in rated_accommodations]\n",
        "\n",
        "predictions = []\n",
        "for accommodation_id in unrated_accommodations:\n",
        "    predicted_rating = loaded_svd.predict(str(user_id), str(accommodation_id))\n",
        "    predictions.append(predicted_rating)\n",
        "\n",
        "predictions.sort(key=lambda x: x.est, reverse=True)\n",
        "top_10_recommendations = predictions[:10]\n",
        "\n",
        "print(f\"\\n{user_id} 님에게 추천하는 숙소 TOP 10:\")\n",
        "for i, pred in enumerate(top_10_recommendations):\n",
        "    print(f\"{i+1}위: 숙소ID {pred.iid} - 예상 평점: {pred.est}\")"
      ]
    },
    {
      "cell_type": "code",
      "execution_count": 32,
      "metadata": {},
      "outputs": [
        {
          "name": "stdout",
          "output_type": "stream",
          "text": [
            "\n",
            "윤준영* 님에게 추천하는 숙소 TOP 10:\n",
            "1위: 숙소ID 1000092412 - 예상 평점: 5\n",
            "2위: 숙소ID 1000094308 - 예상 평점: 5\n",
            "3위: 숙소ID 1000100216 - 예상 평점: 5\n",
            "4위: 숙소ID 1000100687 - 예상 평점: 5\n",
            "5위: 숙소ID 1000109424 - 예상 평점: 5\n",
            "6위: 숙소ID 1000109519 - 예상 평점: 5\n",
            "7위: 숙소ID 1000109921 - 예상 평점: 5\n",
            "8위: 숙소ID 1000111546 - 예상 평점: 5\n",
            "9위: 숙소ID 10044607 - 예상 평점: 5\n",
            "10위: 숙소ID 10051362 - 예상 평점: 5\n"
          ]
        }
      ],
      "source": [
        "import joblib\n",
        "\n",
        "# 저장된 모델 로드\n",
        "loaded_svd = joblib.load('best_svd_model.joblib')\n",
        "\n",
        "# 추천 예시\n",
        "user_id = df.iloc[710]['작성자']\n",
        "rated_accommodations = df.loc[df['작성자'] == user_id, '숙소ID'].tolist()\n",
        "all_accommodations = df['숙소ID'].unique()\n",
        "unrated_accommodations = [item for item in all_accommodations if item not in rated_accommodations]\n",
        "\n",
        "predictions = []\n",
        "for accommodation_id in unrated_accommodations:\n",
        "    predicted_rating = loaded_svd.predict(str(user_id), str(accommodation_id))\n",
        "    predictions.append(predicted_rating)\n",
        "\n",
        "predictions.sort(key=lambda x: x.est, reverse=True)\n",
        "top_10_recommendations = predictions[:10]\n",
        "\n",
        "print(f\"\\n{user_id} 님에게 추천하는 숙소 TOP 10:\")\n",
        "for i, pred in enumerate(top_10_recommendations):\n",
        "    print(f\"{i+1}위: 숙소ID {pred.iid} - 예상 평점: {pred.est}\")"
      ]
    },
    {
      "cell_type": "markdown",
      "metadata": {},
      "source": [
        "# 모델 함수로 정리"
      ]
    },
    {
      "cell_type": "code",
      "execution_count": 192,
      "metadata": {},
      "outputs": [
        {
          "name": "stdout",
          "output_type": "stream",
          "text": [
            "\n",
            "나무향******** 님에게 추천하는 숙소 TOP 10:\n",
            "1위: 숙소ID 3017527 - 예상 평점: 4.907564233834231\n",
            "2위: 숙소ID 1000090614 - 예상 평점: 4.891138351931032\n",
            "3위: 숙소ID 3013225 - 예상 평점: 4.850819335141007\n",
            "4위: 숙소ID 3011067 - 예상 평점: 4.8420596902835165\n",
            "5위: 숙소ID 10046906 - 예상 평점: 4.779202021303834\n",
            "6위: 숙소ID 1000112905 - 예상 평점: 4.763144298533348\n",
            "7위: 숙소ID 3001685 - 예상 평점: 4.731474240797359\n",
            "8위: 숙소ID 3012477 - 예상 평점: 4.722746901596379\n",
            "9위: 숙소ID 10043186 - 예상 평점: 4.695583490987961\n",
            "10위: 숙소ID 1014382 - 예상 평점: 4.689111485683483\n"
          ]
        }
      ],
      "source": [
        "import joblib\n",
        "\n",
        "# 저장된 모델 로드\n",
        "loaded_svd = joblib.load('best_svd_model.joblib')\n",
        "\n",
        "def recommend_top_n(df, loaded_svd, user_index, n=10):\n",
        "\n",
        "    user_id = df.iloc[user_index]['작성자']\n",
        "    rated_accommodations = df.loc[df['작성자'] == user_id, '숙소ID'].tolist()\n",
        "    all_accommodations = df['숙소ID'].unique()\n",
        "    unrated_accommodations = [item for item in all_accommodations if item not in rated_accommodations]\n",
        "\n",
        "    predictions = []\n",
        "    for accommodation_id in unrated_accommodations:\n",
        "        predicted_rating = loaded_svd.predict(str(user_id), str(accommodation_id))\n",
        "        predictions.append(predicted_rating)\n",
        "\n",
        "    predictions.sort(key=lambda x: x.est, reverse=True)\n",
        "    top_n_recommendations = predictions[:n]\n",
        "\n",
        "    print(f\"\\n{user_id} 님에게 추천하는 숙소 TOP {n}:\")\n",
        "    for i, pred in enumerate(top_n_recommendations):\n",
        "        print(f\"{i+1}위: 숙소ID {pred.iid} - 예상 평점: {pred.est}\")\n",
        "\n",
        "recommend_top_n(df, loaded_svd, user_index=256, n=10)"
      ]
    },
    {
      "cell_type": "code",
      "execution_count": 186,
      "metadata": {},
      "outputs": [
        {
          "name": "stdout",
          "output_type": "stream",
          "text": [
            "\n",
            "브뤼셀***** 님에게 추천하는 숙소 TOP 10:\n",
            "1위: 숙소ID 10048293 - 예상 평점: 4.775669327845827\n",
            "2위: 숙소ID 1000109940 - 예상 평점: 4.771617285277465\n",
            "3위: 숙소ID 3010529 - 예상 평점: 4.706556947695621\n",
            "4위: 숙소ID 1000109424 - 예상 평점: 4.704361625083738\n",
            "5위: 숙소ID 1000109116 - 예상 평점: 4.694499236515587\n",
            "6위: 숙소ID 1000105195 - 예상 평점: 4.691318261509213\n",
            "7위: 숙소ID 1000109516 - 예상 평점: 4.665621137309538\n",
            "8위: 숙소ID 1000109591 - 예상 평점: 4.663392016988628\n",
            "9위: 숙소ID 1000090694 - 예상 평점: 4.660880221425258\n",
            "10위: 숙소ID 1000104309 - 예상 평점: 4.651471050360749\n"
          ]
        }
      ],
      "source": [
        "# 사용 예시\n",
        "recommend_top_n(df, loaded_svd, user_index=1, n=10)"
      ]
    }
  ],
  "metadata": {
    "colab": {
      "provenance": []
    },
    "kernelspec": {
      "display_name": "Python 3",
      "name": "python3"
    },
    "language_info": {
      "codemirror_mode": {
        "name": "ipython",
        "version": 3
      },
      "file_extension": ".py",
      "mimetype": "text/x-python",
      "name": "python",
      "nbconvert_exporter": "python",
      "pygments_lexer": "ipython3",
      "version": "3.10.1"
    }
  },
  "nbformat": 4,
  "nbformat_minor": 0
}
